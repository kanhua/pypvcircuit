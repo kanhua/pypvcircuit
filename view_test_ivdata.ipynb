{
 "cells": [
  {
   "cell_type": "code",
   "execution_count": 30,
   "metadata": {},
   "outputs": [],
   "source": [
    "%matplotlib inline\n",
    "import numpy as np\n",
    "import matplotlib.pyplot as plt"
   ]
  },
  {
   "cell_type": "code",
   "execution_count": 31,
   "metadata": {},
   "outputs": [
    {
     "name": "stdout",
     "output_type": "stream",
     "text": [
      "1jfig.png                            network simulation demo.ipynb\r\n",
      "Dynamic contact pixels.ipynb         network simulation starter EQE.ipynb\r\n",
      "LICENSE.md                           network simulation starter v2.ipynb\r\n",
      "\u001b[31mMJ_solar_cell_tutorial.py\u001b[m\u001b[m            network simulation starter v3.ipynb\r\n",
      "Quasi3D_3J_solar_Cell_QE.py          network_sim_iv.pdf\r\n",
      "\u001b[31mQuasi3D_3J_solar_Cell_func.py\u001b[m\u001b[m        network_simulation_demo.ipynb\r\n",
      "README.md                            \u001b[34mprivate_data\u001b[m\u001b[m\r\n",
      "Read Panasonic Mask.ipynb            \u001b[34mpublic_data\u001b[m\u001b[m\r\n",
      "Read panasonic profile.ipynb         python_resources.md\r\n",
      "\u001b[34mSpice64\u001b[m\u001b[m                              \u001b[31msetup_spice.py\u001b[m\u001b[m\r\n",
      "\u001b[34m__pycache__\u001b[m\u001b[m                          \u001b[34mshared\u001b[m\u001b[m\r\n",
      "analytical_3J.py                     \u001b[34msolcore5-master\u001b[m\u001b[m\r\n",
      "cmd_install.bat                      solve pv module.ipynb\r\n",
      "contact1.png                         \u001b[34mspice\u001b[m\u001b[m\r\n",
      "\u001b[34mdata\u001b[m\u001b[m                                 spice_in.txt\r\n",
      "\u001b[34mdeps\u001b[m\u001b[m                                 spice_out.txt\r\n",
      "\u001b[34mdoc_images\u001b[m\u001b[m                           test_panasonic_file.py\r\n",
      "\u001b[34mdocs\u001b[m\u001b[m                                 view_test_ivdata.ipynb\r\n",
      "environment.yml                      vmap_1.npy\r\n",
      "ill1.png                             vmap_10.npy\r\n",
      "ingap_iv.csv                         vmap_2.npy\r\n",
      "\u001b[34minstall\u001b[m\u001b[m                              vmap_20.npy\r\n",
      "\u001b[31minstall.md\u001b[m\u001b[m                           vmap_3.npy\r\n",
      "install_anaconda.md                  vmap_6.npy\r\n",
      "iv_result.csv                        working-with-code-cells.ipynb\r\n",
      "\u001b[31mmasks_sq.png\u001b[m\u001b[m\r\n"
     ]
    }
   ],
   "source": [
    "!ls"
   ]
  },
  {
   "cell_type": "code",
   "execution_count": 32,
   "metadata": {},
   "outputs": [],
   "source": [
    "iv=np.loadtxt(\"ingap_iv.csv\",delimiter=',')"
   ]
  },
  {
   "cell_type": "code",
   "execution_count": 33,
   "metadata": {},
   "outputs": [
    {
     "data": {
      "text/plain": [
       "12"
      ]
     },
     "execution_count": 33,
     "metadata": {},
     "output_type": "execute_result"
    }
   ],
   "source": [
    "iv.shape[1]"
   ]
  },
  {
   "cell_type": "code",
   "execution_count": 34,
   "metadata": {},
   "outputs": [
    {
     "data": {
      "text/plain": [
       "(-1.1084538428999986, 0)"
      ]
     },
     "execution_count": 34,
     "metadata": {},
     "output_type": "execute_result"
    },
    {
     "data": {
      "image/png": "[encoded data removed]",
      "text/plain": [
       "<Figure size 432x288 with 1 Axes>"
      ]
     },
     "metadata": {},
     "output_type": "display_data"
    }
   ],
   "source": [
    "for i in range(0,iv.shape[1],2):\n",
    "    plt.plot(iv[:,i],iv[:,i+1])\n",
    "plt.ylim((np.min(iv[:,1]),0))"
   ]
  },
  {
   "cell_type": "code",
   "execution_count": 35,
   "metadata": {},
   "outputs": [],
   "source": [
    "vmap_10=np.load('vmap_10.npy')"
   ]
  },
  {
   "cell_type": "code",
   "execution_count": 36,
   "metadata": {},
   "outputs": [
    {
     "data": {
      "image/png": "[encoded data removed]",
      "text/plain": [
       "<Figure size 432x288 with 6 Axes>"
      ]
     },
     "metadata": {},
     "output_type": "display_data"
    }
   ],
   "source": [
    "test_pixel_width = [1, 2, 3, 6, 10, 20]\n",
    "fig,ax=plt.subplots(ncols=len(test_pixel_width))\n",
    "for i, pw in enumerate(test_pixel_width):\n",
    "    vmap=np.load('vmap_{}.npy'.format(pw))\n",
    "    ax[i].imshow(vmap)"
   ]
  },
  {
   "cell_type": "code",
   "execution_count": null,
   "metadata": {},
   "outputs": [],
   "source": []
  }
 ],
 "metadata": {
  "kernelspec": {
   "display_name": "Python 3",
   "language": "python",
   "name": "python3"
  },
  "language_info": {
   "codemirror_mode": {
    "name": "ipython",
    "version": 3
   },
   "file_extension": ".py",
   "mimetype": "text/x-python",
   "name": "python",
   "nbconvert_exporter": "python",
   "pygments_lexer": "ipython3",
   "version": "3.6.5"
  }
 },
 "nbformat": 4,
 "nbformat_minor": 2
}
