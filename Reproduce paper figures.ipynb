{
 "cells": [
  {
   "cell_type": "markdown",
   "metadata": {},
   "source": [
    "This script aims to make the same calculation as the in the paper"
   ]
  },
  {
   "cell_type": "code",
   "execution_count": 1,
   "metadata": {},
   "outputs": [],
   "source": [
    "import os\n",
    "import unittest\n",
    "import numpy as np\n",
    "from skimage.io import imread\n",
    "\n",
    "from pypvcell.solarcell import SQCell, MJCell\n",
    "\n",
    "from pypvcircuit.util import make_3d_illumination, \\\n",
    "    gen_profile, HighResGrid, MetalGrid, HighResTriangGrid, CircleGrid, CircleGenGrid\n",
    "\n",
    "from tests.helper import draw_contact_and_voltage_map, draw_merged_contact_images, \\\n",
    "    get_quater_image, contact_ratio, draw_illumination_3d\n",
    "\n",
    "from tests.exp_vary_pw import PWExp"
   ]
  },
  {
   "cell_type": "markdown",
   "metadata": {},
   "source": [
    "## Low concentration, small-area cell (Section III-B)"
   ]
  },
  {
   "cell_type": "markdown",
   "metadata": {},
   "source": [
    "The following script generates the figures the data files of Section III-B of the main paper.\n",
    "The generated figures files have prefix ```III_B_```."
   ]
  },
  {
   "cell_type": "code",
   "execution_count": null,
   "metadata": {},
   "outputs": [
    {
     "name": "stderr",
     "output_type": "stream",
     "text": [
      "/Users/kanhua/miniconda3/envs/solcore5/lib/python3.7/site-packages/skimage/io/_io.py:140: UserWarning: /Users/kanhua/OneDrive/pypvcircuit_data/III_A_5_ill1.png is a low contrast image\n",
      "  warn('%s is a low contrast image' % fname)\n"
     ]
    },
    {
     "name": "stdout",
     "output_type": "stream",
     "text": [
      "original image shape:500,500\n",
      "illumination total 250000:\n",
      "number of data:176\n",
      "Jsc: -0.000025 A/m^2\n",
      "fill factor of pw 10: 0.9241431715442235\n",
      "Voc of pw 10: 3.15\n",
      "time elapsed: 476.82 sec.\n",
      "number of data:176\n",
      "Jsc: -0.000025 A/m^2\n",
      "fill factor of pw 20: 0.9241463069423793\n",
      "Voc of pw 20: 3.15\n",
      "time elapsed: 42.19 sec.\n",
      "number of data:176\n",
      "Jsc: -0.000025 A/m^2\n",
      "fill factor of pw 50: 0.9241552803350976\n",
      "Voc of pw 50: 3.15\n",
      "time elapsed: 3.79 sec.\n",
      "number of data:176\n",
      "Jsc: -0.000025 A/m^2\n",
      "fill factor of pw 100: 0.9241613125575264\n",
      "Voc of pw 100: 3.15\n",
      "time elapsed: 0.96 sec.\n"
     ]
    },
    {
     "name": "stderr",
     "output_type": "stream",
     "text": [
      "/Users/kanhua/miniconda3/envs/solcore5/lib/python3.7/site-packages/skimage/io/_io.py:140: UserWarning: /Users/kanhua/OneDrive/pypvcircuit_data/III_A_10_ill1.png is a low contrast image\n",
      "  warn('%s is a low contrast image' % fname)\n"
     ]
    },
    {
     "name": "stdout",
     "output_type": "stream",
     "text": [
      "original image shape:500,500\n",
      "illumination total 250000:\n",
      "number of data:176\n",
      "Jsc: -0.000024 A/m^2\n",
      "fill factor of pw 10: 0.9238436311903698\n",
      "Voc of pw 10: 3.14\n",
      "time elapsed: 538.08 sec.\n",
      "number of data:176\n",
      "Jsc: -0.000024 A/m^2\n",
      "fill factor of pw 20: 0.9238453364372765\n",
      "Voc of pw 20: 3.14\n",
      "time elapsed: 40.34 sec.\n",
      "number of data:176\n",
      "Jsc: -0.000024 A/m^2\n",
      "fill factor of pw 50: 0.923846851120491\n",
      "Voc of pw 50: 3.14\n",
      "time elapsed: 3.66 sec.\n",
      "number of data:176\n",
      "Jsc: -0.000024 A/m^2\n",
      "fill factor of pw 100: 0.9238502768132281\n",
      "Voc of pw 100: 3.14\n",
      "time elapsed: 0.93 sec.\n"
     ]
    },
    {
     "name": "stderr",
     "output_type": "stream",
     "text": [
      "/Users/kanhua/miniconda3/envs/solcore5/lib/python3.7/site-packages/skimage/io/_io.py:140: UserWarning: /Users/kanhua/OneDrive/pypvcircuit_data/III_A_15_ill1.png is a low contrast image\n",
      "  warn('%s is a low contrast image' % fname)\n"
     ]
    },
    {
     "name": "stdout",
     "output_type": "stream",
     "text": [
      "original image shape:500,500\n",
      "illumination total 250000:\n"
     ]
    }
   ],
   "source": [
    "grid_number = [5, 10, 15]\n",
    "\n",
    "gaas_1j = SQCell(1.42, 300, 1)\n",
    "ingap_1j = SQCell(1.87, 300, 1)\n",
    "ingaas_1j = SQCell(1.0, 300, 1)\n",
    "\n",
    "mj_cell = MJCell([ingap_1j, gaas_1j, ingaas_1j])\n",
    "\n",
    "for fn in grid_number:\n",
    "    mg = HighResTriangGrid(finger_n=fn)\n",
    "\n",
    "    contacts_mask = mg.metal_image\n",
    "\n",
    "    contacts_mask = get_quater_image(contacts_mask)\n",
    "\n",
    "    illumination_mask = np.ones_like(contacts_mask)\n",
    "\n",
    "    mg.metal_image = contacts_mask\n",
    "    mg.lr = 1e-6\n",
    "    mg.lc = 1e-6\n",
    "\n",
    "    pe = PWExp(illumination_mask, mg, vini=0, vfin=3.5, vstep=0.02,\n",
    "               test_pixel_width=[10, 20, 50, 100], file_prefix=\"III_B_{}\".format(fn))\n",
    "\n",
    "    pe.vary_pixel_width(mj_cell)"
   ]
  },
  {
   "cell_type": "markdown",
   "metadata": {},
   "source": [
    "## High concentration, small-area cell (Section III-C)"
   ]
  },
  {
   "cell_type": "code",
   "execution_count": null,
   "metadata": {},
   "outputs": [],
   "source": [
    "The following script generates the figures the data files of Section III-B of the main paper.\n",
    "The generated figures files have prefix ```III_C_```."
   ]
  },
  {
   "cell_type": "code",
   "execution_count": null,
   "metadata": {},
   "outputs": [],
   "source": [
    "grid_number = [5, 10, 15]\n",
    "\n",
    "gaas_1j = SQCell(1.42, 300, 1)\n",
    "ingap_1j = SQCell(1.87, 300, 1)\n",
    "ingaas_1j = SQCell(1.0, 300, 1)\n",
    "\n",
    "mj_cell = MJCell([ingap_1j, gaas_1j, ingaas_1j])\n",
    "\n",
    "for fn in grid_number:\n",
    "    mg = HighResTriangGrid(finger_n=fn)\n",
    "\n",
    "    contacts_mask = mg.metal_image\n",
    "\n",
    "    contacts_mask = get_quater_image(contacts_mask)\n",
    "    \n",
    "    #Set concentration to be 500 suns\n",
    "    illumination_mask = np.ones_like(contacts_mask) * 500\n",
    "\n",
    "    mg.metal_image = contacts_mask\n",
    "    mg.lr = 1e-6\n",
    "    mg.lc = 1e-6\n",
    "\n",
    "    pe = PWExp(illumination_mask, mg, vini=0, vfin=4.5, vstep=0.02,\n",
    "               test_pixel_width=[10, 20, 50, 100], file_prefix=\"III_C_{}\".format(fn))\n",
    "\n",
    "    pe.vary_pixel_width(mj_cell)"
   ]
  },
  {
   "cell_type": "markdown",
   "metadata": {},
   "source": [
    "## High concentration, large-area cell (Section III-D)\n",
    "The following script generates the figures the data files of Section III-B of the main paper.\n",
    "The generated figures files have prefix ```III_D_```."
   ]
  },
  {
   "cell_type": "code",
   "execution_count": null,
   "metadata": {},
   "outputs": [],
   "source": [
    "grid_number = [5, 10, 15, 25, 50]\n",
    "\n",
    "gaas_1j = SQCell(1.42, 300, 1)\n",
    "ingap_1j = SQCell(1.87, 300, 1)\n",
    "ingaas_1j = SQCell(1.0, 300, 1)\n",
    "\n",
    "mj_cell = MJCell([ingap_1j, gaas_1j, ingaas_1j])\n",
    "\n",
    "for fn in grid_number:\n",
    "    mg = HighResTriangGrid(finger_n=fn)\n",
    "\n",
    "    contacts_mask = mg.metal_image\n",
    "\n",
    "    contacts_mask = get_quater_image(contacts_mask)\n",
    "\n",
    "    illumination_mask = np.ones_like(contacts_mask) * 500\n",
    "\n",
    "    mg.metal_image = contacts_mask\n",
    "    mg.lr = 1e-5\n",
    "    mg.lc = 1e-5\n",
    "\n",
    "    pe = PWExp(illumination_mask, mg, vini=0, vfin=4.5, vstep=0.02,\n",
    "               test_pixel_width=[10, 20, 50, 100], file_prefix=\"III_D_{}\".format(fn))\n",
    "\n",
    "    pe.vary_pixel_width(mj_cell)"
   ]
  },
  {
   "cell_type": "code",
   "execution_count": null,
   "metadata": {},
   "outputs": [],
   "source": []
  }
 ],
 "metadata": {
  "kernelspec": {
   "display_name": "Python 3",
   "language": "python",
   "name": "python3"
  },
  "language_info": {
   "codemirror_mode": {
    "name": "ipython",
    "version": 3
   },
   "file_extension": ".py",
   "mimetype": "text/x-python",
   "name": "python",
   "nbconvert_exporter": "python",
   "pygments_lexer": "ipython3",
   "version": "3.7.1"
  }
 },
 "nbformat": 4,
 "nbformat_minor": 2
}
