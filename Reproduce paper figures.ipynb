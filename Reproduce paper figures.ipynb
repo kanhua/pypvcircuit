{
 "cells": [
  {
   "cell_type": "markdown",
   "metadata": {},
   "source": [
    "This script aims to make the same calculation as the in the paper"
   ]
  },
  {
   "cell_type": "code",
   "execution_count": 1,
   "metadata": {
    "collapsed": true
   },
   "outputs": [],
   "source": [
    "import os\n",
    "import unittest\n",
    "import numpy as np\n",
    "from skimage.io import imread\n",
    "\n",
    "from pypvcell.solarcell import SQCell, MJCell\n",
    "\n",
    "from pypvcircuit.util import make_3d_illumination, \\\n",
    "    gen_profile, HighResGrid, MetalGrid, HighResTriangGrid, CircleGrid, CircleGenGrid\n",
    "\n",
    "from tests.helper import draw_contact_and_voltage_map, draw_merged_contact_images, \\\n",
    "    get_quater_image, contact_ratio, draw_illumination_3d\n",
    "\n",
    "from tests.exp_vary_pw import PWExp"
   ]
  },
  {
   "cell_type": "markdown",
   "metadata": {},
   "source": [
    "## Low concentration, small-area cell (Section III-B)"
   ]
  },
  {
   "cell_type": "markdown",
   "metadata": {},
   "source": [
    "The following script generates the figures the data files of Section III-B of the main paper.\n",
    "The generated figures files have prefix ```III_B_```."
   ]
  },
  {
   "cell_type": "code",
   "execution_count": 2,
   "metadata": {},
   "outputs": [
    {
     "name": "stderr",
     "output_type": "stream",
     "text": [
      "C:\\Users\\kanhu\\Anaconda3\\lib\\site-packages\\skimage\\io\\_io.py:140: UserWarning: C:\\Users\\kanhu\\OneDrive\\source\\repos\\solar-cell-circuit\\output\\III_B_5_ill1.png is a low contrast image\n",
      "  warn('%s is a low contrast image' % fname)\n"
     ]
    },
    {
     "name": "stdout",
     "output_type": "stream",
     "text": [
      "original image shape:500,500\n",
      "illumination total 250000:\n",
      "number of data:176\n",
      "Jsc: -0.000025 A/m^2\n",
      "fill factor of pw 10: 0.9241431715442235\n",
      "Voc of pw 10: 3.15\n",
      "time elapsed: 345.43 sec.\n",
      "number of data:176\n",
      "Jsc: -0.000025 A/m^2\n",
      "fill factor of pw 20: 0.9241463069423793\n",
      "Voc of pw 20: 3.15\n",
      "time elapsed: 22.51 sec.\n",
      "number of data:176\n",
      "Jsc: -0.000025 A/m^2\n",
      "fill factor of pw 50: 0.9241552803350976\n",
      "Voc of pw 50: 3.15\n",
      "time elapsed: 1.97 sec.\n",
      "number of data:176\n",
      "Jsc: -0.000025 A/m^2\n",
      "fill factor of pw 100: 0.9241613125575264\n",
      "Voc of pw 100: 3.15\n",
      "time elapsed: 0.63 sec.\n"
     ]
    },
    {
     "name": "stderr",
     "output_type": "stream",
     "text": [
      "C:\\Users\\kanhu\\Anaconda3\\lib\\site-packages\\skimage\\io\\_io.py:140: UserWarning: C:\\Users\\kanhu\\OneDrive\\source\\repos\\solar-cell-circuit\\output\\III_B_10_ill1.png is a low contrast image\n",
      "  warn('%s is a low contrast image' % fname)\n"
     ]
    },
    {
     "name": "stdout",
     "output_type": "stream",
     "text": [
      "original image shape:500,500\n",
      "illumination total 250000:\n",
      "number of data:176\n",
      "Jsc: -0.000024 A/m^2\n",
      "fill factor of pw 10: 0.9238436311903698\n",
      "Voc of pw 10: 3.14\n",
      "time elapsed: 443.64 sec.\n",
      "number of data:176\n",
      "Jsc: -0.000024 A/m^2\n",
      "fill factor of pw 20: 0.9238453364372765\n",
      "Voc of pw 20: 3.14\n",
      "time elapsed: 23.73 sec.\n",
      "number of data:176\n",
      "Jsc: -0.000024 A/m^2\n",
      "fill factor of pw 50: 0.923846851120491\n",
      "Voc of pw 50: 3.14\n",
      "time elapsed: 2.06 sec.\n",
      "number of data:176\n",
      "Jsc: -0.000024 A/m^2\n",
      "fill factor of pw 100: 0.9238502768132281\n",
      "Voc of pw 100: 3.14\n",
      "time elapsed: 0.54 sec.\n"
     ]
    },
    {
     "name": "stderr",
     "output_type": "stream",
     "text": [
      "C:\\Users\\kanhu\\Anaconda3\\lib\\site-packages\\skimage\\io\\_io.py:140: UserWarning: C:\\Users\\kanhu\\OneDrive\\source\\repos\\solar-cell-circuit\\output\\III_B_15_ill1.png is a low contrast image\n",
      "  warn('%s is a low contrast image' % fname)\n"
     ]
    },
    {
     "name": "stdout",
     "output_type": "stream",
     "text": [
      "original image shape:500,500\n",
      "illumination total 250000:\n",
      "number of data:176\n",
      "Jsc: -0.000023 A/m^2\n",
      "fill factor of pw 10: 0.9234450044297218\n",
      "Voc of pw 10: 3.14\n",
      "time elapsed: 371.26 sec.\n",
      "number of data:176\n",
      "Jsc: -0.000023 A/m^2\n",
      "fill factor of pw 20: 0.9234454220498973\n",
      "Voc of pw 20: 3.14\n",
      "time elapsed: 21.72 sec.\n",
      "number of data:176\n",
      "Jsc: -0.000023 A/m^2\n",
      "fill factor of pw 50: 0.9234459451177576\n",
      "Voc of pw 50: 3.14\n",
      "time elapsed: 1.93 sec.\n",
      "number of data:176\n",
      "Jsc: -0.000023 A/m^2\n",
      "fill factor of pw 100: 0.9234466683362712\n",
      "Voc of pw 100: 3.14\n",
      "time elapsed: 0.64 sec.\n"
     ]
    }
   ],
   "source": [
    "grid_number = [5, 10, 15]\n",
    "\n",
    "gaas_1j = SQCell(1.42, 300, 1)\n",
    "ingap_1j = SQCell(1.87, 300, 1)\n",
    "ingaas_1j = SQCell(1.0, 300, 1)\n",
    "\n",
    "mj_cell = MJCell([ingap_1j, gaas_1j, ingaas_1j])\n",
    "\n",
    "for fn in grid_number:\n",
    "    mg = HighResTriangGrid(finger_n=fn)\n",
    "\n",
    "    contacts_mask = mg.metal_image\n",
    "\n",
    "    contacts_mask = get_quater_image(contacts_mask)\n",
    "\n",
    "    illumination_mask = np.ones_like(contacts_mask)\n",
    "\n",
    "    mg.metal_image = contacts_mask\n",
    "    mg.lr = 1e-6\n",
    "    mg.lc = 1e-6\n",
    "\n",
    "    pe = PWExp(illumination_mask, mg, vini=0, vfin=3.5, vstep=0.02,\n",
    "               test_pixel_width=[10, 20, 50, 100], file_prefix=\"III_B_{}\".format(fn))\n",
    "\n",
    "    pe.vary_pixel_width(mj_cell)"
   ]
  },
  {
   "cell_type": "markdown",
   "metadata": {},
   "source": [
    "## High concentration, small-area cell (Section III-C)"
   ]
  },
  {
   "cell_type": "markdown",
   "metadata": {},
   "source": [
    "The following script generates the figures the data files of Section III-B of the main paper.\n",
    "The generated figures files have prefix ```III_C_```."
   ]
  },
  {
   "cell_type": "code",
   "execution_count": 4,
   "metadata": {},
   "outputs": [
    {
     "name": "stderr",
     "output_type": "stream",
     "text": [
      "C:\\Users\\kanhu\\Anaconda3\\lib\\site-packages\\skimage\\io\\_io.py:140: UserWarning: C:\\Users\\kanhu\\OneDrive\\source\\repos\\solar-cell-circuit\\output\\III_C_5_ill1.png is a low contrast image\n",
      "  warn('%s is a low contrast image' % fname)\n"
     ]
    },
    {
     "name": "stdout",
     "output_type": "stream",
     "text": [
      "original image shape:500,500\n",
      "illumination total 125000000:\n",
      "number of data:226\n",
      "Jsc: -0.012718 A/m^2\n",
      "fill factor of pw 10: 0.9207393129350404\n",
      "Voc of pw 10: 3.61\n",
      "time elapsed: 366.44 sec.\n",
      "number of data:226\n",
      "Jsc: -0.012718 A/m^2\n",
      "fill factor of pw 20: 0.9224399893325577\n",
      "Voc of pw 20: 3.61\n",
      "time elapsed: 23.55 sec.\n",
      "number of data:226\n",
      "Jsc: -0.012718 A/m^2\n",
      "fill factor of pw 50: 0.9268323005534139\n",
      "Voc of pw 50: 3.62\n",
      "time elapsed: 2.06 sec.\n",
      "number of data:226\n",
      "Jsc: -0.012718 A/m^2\n",
      "fill factor of pw 100: 0.9298765785059048\n",
      "Voc of pw 100: 3.62\n",
      "time elapsed: 0.60 sec.\n"
     ]
    },
    {
     "name": "stderr",
     "output_type": "stream",
     "text": [
      "C:\\Users\\kanhu\\Anaconda3\\lib\\site-packages\\skimage\\io\\_io.py:140: UserWarning: C:\\Users\\kanhu\\OneDrive\\source\\repos\\solar-cell-circuit\\output\\III_C_10_ill1.png is a low contrast image\n",
      "  warn('%s is a low contrast image' % fname)\n"
     ]
    },
    {
     "name": "stdout",
     "output_type": "stream",
     "text": [
      "original image shape:500,500\n",
      "illumination total 125000000:\n",
      "number of data:226\n",
      "Jsc: -0.012103 A/m^2\n",
      "fill factor of pw 10: 0.9296363544015781\n",
      "Voc of pw 10: 3.61\n",
      "time elapsed: 392.22 sec.\n",
      "number of data:226\n",
      "Jsc: -0.012103 A/m^2\n",
      "fill factor of pw 20: 0.9299651925968395\n",
      "Voc of pw 20: 3.61\n",
      "time elapsed: 26.34 sec.\n",
      "number of data:226\n",
      "Jsc: -0.012103 A/m^2\n",
      "fill factor of pw 50: 0.9306402091962347\n",
      "Voc of pw 50: 3.61\n",
      "time elapsed: 2.22 sec.\n",
      "number of data:226\n",
      "Jsc: -0.012103 A/m^2\n",
      "fill factor of pw 100: 0.9321474749070996\n",
      "Voc of pw 100: 3.62\n",
      "time elapsed: 0.54 sec.\n"
     ]
    },
    {
     "name": "stderr",
     "output_type": "stream",
     "text": [
      "C:\\Users\\kanhu\\Anaconda3\\lib\\site-packages\\skimage\\io\\_io.py:140: UserWarning: C:\\Users\\kanhu\\OneDrive\\source\\repos\\solar-cell-circuit\\output\\III_C_15_ill1.png is a low contrast image\n",
      "  warn('%s is a low contrast image' % fname)\n"
     ]
    },
    {
     "name": "stdout",
     "output_type": "stream",
     "text": [
      "original image shape:500,500\n",
      "illumination total 125000000:\n",
      "number of data:226\n",
      "Jsc: -0.011481 A/m^2\n",
      "fill factor of pw 10: 0.9307202681717076\n",
      "Voc of pw 10: 3.61\n",
      "time elapsed: 372.69 sec.\n",
      "number of data:226\n",
      "Jsc: -0.011481 A/m^2\n",
      "fill factor of pw 20: 0.9308428690442861\n",
      "Voc of pw 20: 3.61\n",
      "time elapsed: 24.36 sec.\n",
      "number of data:226\n",
      "Jsc: -0.011481 A/m^2\n",
      "fill factor of pw 50: 0.9311502264364246\n",
      "Voc of pw 50: 3.61\n",
      "time elapsed: 2.05 sec.\n",
      "number of data:226\n",
      "Jsc: -0.011481 A/m^2\n",
      "fill factor of pw 100: 0.932036622998759\n",
      "Voc of pw 100: 3.61\n",
      "time elapsed: 0.55 sec.\n"
     ]
    }
   ],
   "source": [
    "grid_number = [5, 10, 15]\n",
    "\n",
    "gaas_1j = SQCell(1.42, 300, 1)\n",
    "ingap_1j = SQCell(1.87, 300, 1)\n",
    "ingaas_1j = SQCell(1.0, 300, 1)\n",
    "\n",
    "mj_cell = MJCell([ingap_1j, gaas_1j, ingaas_1j])\n",
    "\n",
    "for fn in grid_number:\n",
    "    mg = HighResTriangGrid(finger_n=fn)\n",
    "\n",
    "    contacts_mask = mg.metal_image\n",
    "\n",
    "    contacts_mask = get_quater_image(contacts_mask)\n",
    "    \n",
    "    #Set concentration to be 500 suns\n",
    "    illumination_mask = np.ones_like(contacts_mask) * 500\n",
    "\n",
    "    mg.metal_image = contacts_mask\n",
    "    mg.lr = 1e-6\n",
    "    mg.lc = 1e-6\n",
    "\n",
    "    pe = PWExp(illumination_mask, mg, vini=0, vfin=4.5, vstep=0.02,\n",
    "               test_pixel_width=[10, 20, 50, 100], file_prefix=\"III_C_{}\".format(fn))\n",
    "\n",
    "    pe.vary_pixel_width(mj_cell)"
   ]
  },
  {
   "cell_type": "markdown",
   "metadata": {},
   "source": [
    "## High concentration, large-area cell (Section III-D)\n",
    "The following script generates the figures the data files of Section III-B of the main paper.\n",
    "The generated figures files have prefix ```III_D_```."
   ]
  },
  {
   "cell_type": "code",
   "execution_count": 5,
   "metadata": {},
   "outputs": [
    {
     "name": "stderr",
     "output_type": "stream",
     "text": [
      "C:\\Users\\kanhu\\Anaconda3\\lib\\site-packages\\skimage\\io\\_io.py:140: UserWarning: C:\\Users\\kanhu\\OneDrive\\source\\repos\\solar-cell-circuit\\output\\III_D_5_ill1.png is a low contrast image\n",
      "  warn('%s is a low contrast image' % fname)\n"
     ]
    },
    {
     "name": "stdout",
     "output_type": "stream",
     "text": [
      "original image shape:500,500\n",
      "illumination total 125000000:\n",
      "number of data:226\n",
      "Jsc: -1.054195 A/m^2\n",
      "fill factor of pw 10: 0.4168203914411223\n",
      "Voc of pw 10: 3.54\n",
      "time elapsed: 372.45 sec.\n",
      "number of data:226\n",
      "Jsc: -1.110216 A/m^2\n",
      "fill factor of pw 20: 0.43836502024825513\n",
      "Voc of pw 20: 3.55\n",
      "time elapsed: 24.09 sec.\n",
      "number of data:226\n",
      "Jsc: -1.184226 A/m^2\n",
      "fill factor of pw 50: 0.7014665050022688\n",
      "Voc of pw 50: 3.60\n",
      "time elapsed: 2.03 sec.\n",
      "number of data:226\n",
      "Jsc: -1.253209 A/m^2\n",
      "fill factor of pw 100: 0.8425187033534692\n",
      "Voc of pw 100: 3.61\n",
      "time elapsed: 0.56 sec.\n"
     ]
    },
    {
     "name": "stderr",
     "output_type": "stream",
     "text": [
      "C:\\Users\\kanhu\\Anaconda3\\lib\\site-packages\\skimage\\io\\_io.py:140: UserWarning: C:\\Users\\kanhu\\OneDrive\\source\\repos\\solar-cell-circuit\\output\\III_D_10_ill1.png is a low contrast image\n",
      "  warn('%s is a low contrast image' % fname)\n"
     ]
    },
    {
     "name": "stdout",
     "output_type": "stream",
     "text": [
      "original image shape:500,500\n",
      "illumination total 125000000:\n",
      "number of data:226\n",
      "Jsc: -1.203100 A/m^2\n",
      "fill factor of pw 10: 0.5840174101033827\n",
      "Voc of pw 10: 3.56\n",
      "time elapsed: 441.11 sec.\n",
      "number of data:226\n",
      "Jsc: -1.210335 A/m^2\n",
      "fill factor of pw 20: 0.6220312333026377\n",
      "Voc of pw 20: 3.57\n",
      "time elapsed: 24.08 sec.\n",
      "number of data:226\n",
      "Jsc: -1.210335 A/m^2\n",
      "fill factor of pw 50: 0.7099844167994785\n",
      "Voc of pw 50: 3.60\n",
      "time elapsed: 2.03 sec.\n",
      "number of data:226\n",
      "Jsc: -1.210335 A/m^2\n",
      "fill factor of pw 100: 0.9263241959206815\n",
      "Voc of pw 100: 3.61\n",
      "time elapsed: 0.55 sec.\n"
     ]
    },
    {
     "name": "stderr",
     "output_type": "stream",
     "text": [
      "C:\\Users\\kanhu\\Anaconda3\\lib\\site-packages\\skimage\\io\\_io.py:140: UserWarning: C:\\Users\\kanhu\\OneDrive\\source\\repos\\solar-cell-circuit\\output\\III_D_15_ill1.png is a low contrast image\n",
      "  warn('%s is a low contrast image' % fname)\n"
     ]
    },
    {
     "name": "stdout",
     "output_type": "stream",
     "text": [
      "original image shape:500,500\n",
      "illumination total 125000000:\n",
      "number of data:226\n",
      "Jsc: -1.148063 A/m^2\n",
      "fill factor of pw 10: 0.6885825632773662\n",
      "Voc of pw 10: 3.56\n",
      "time elapsed: 393.49 sec.\n",
      "number of data:226\n",
      "Jsc: -1.148063 A/m^2\n",
      "fill factor of pw 20: 0.7074257582273329\n",
      "Voc of pw 20: 3.57\n",
      "time elapsed: 24.00 sec.\n",
      "number of data:226\n",
      "Jsc: -1.148063 A/m^2\n",
      "fill factor of pw 50: 0.8101102794076058\n",
      "Voc of pw 50: 3.60\n",
      "time elapsed: 2.04 sec.\n",
      "number of data:226\n",
      "Jsc: -1.148063 A/m^2\n",
      "fill factor of pw 100: 0.9248913902089319\n",
      "Voc of pw 100: 3.61\n",
      "time elapsed: 0.55 sec.\n"
     ]
    },
    {
     "name": "stderr",
     "output_type": "stream",
     "text": [
      "C:\\Users\\kanhu\\Anaconda3\\lib\\site-packages\\skimage\\io\\_io.py:140: UserWarning: C:\\Users\\kanhu\\OneDrive\\source\\repos\\solar-cell-circuit\\output\\III_D_25_ill1.png is a low contrast image\n",
      "  warn('%s is a low contrast image' % fname)\n"
     ]
    },
    {
     "name": "stdout",
     "output_type": "stream",
     "text": [
      "original image shape:500,500\n",
      "illumination total 125000000:\n",
      "number of data:226\n",
      "Jsc: -1.024940 A/m^2\n",
      "fill factor of pw 10: 0.8342561723711182\n",
      "Voc of pw 10: 3.57\n",
      "time elapsed: 368.60 sec.\n",
      "number of data:226\n",
      "Jsc: -1.024940 A/m^2\n",
      "fill factor of pw 20: 0.8292994187116848\n",
      "Voc of pw 20: 3.58\n",
      "time elapsed: 28.35 sec.\n",
      "number of data:226\n",
      "Jsc: -1.024940 A/m^2\n",
      "fill factor of pw 50: 0.9207658590195408\n",
      "Voc of pw 50: 3.60\n",
      "time elapsed: 2.10 sec.\n",
      "number of data:226\n",
      "Jsc: -1.024940 A/m^2\n",
      "fill factor of pw 100: 0.9221301803583387\n",
      "Voc of pw 100: 3.60\n",
      "time elapsed: 0.51 sec.\n"
     ]
    },
    {
     "name": "stderr",
     "output_type": "stream",
     "text": [
      "C:\\Users\\kanhu\\Anaconda3\\lib\\site-packages\\skimage\\io\\_io.py:140: UserWarning: C:\\Users\\kanhu\\OneDrive\\source\\repos\\solar-cell-circuit\\output\\III_D_50_ill1.png is a low contrast image\n",
      "  warn('%s is a low contrast image' % fname)\n"
     ]
    },
    {
     "name": "stdout",
     "output_type": "stream",
     "text": [
      "original image shape:500,500\n",
      "illumination total 125000000:\n",
      "number of data:226\n",
      "Jsc: -0.708672 A/m^2\n",
      "fill factor of pw 10: 0.8967993371074194\n",
      "Voc of pw 10: 3.56\n",
      "time elapsed: 381.49 sec.\n",
      "number of data:226\n",
      "Jsc: -0.708672 A/m^2\n",
      "fill factor of pw 20: 0.8787957233728271\n",
      "Voc of pw 20: 3.56\n",
      "time elapsed: 25.08 sec.\n",
      "number of data:226\n",
      "Jsc: -0.708672 A/m^2\n",
      "fill factor of pw 50: 0.9165750973712697\n",
      "Voc of pw 50: 3.57\n",
      "time elapsed: 2.08 sec.\n",
      "number of data:226\n",
      "Jsc: -0.708672 A/m^2\n",
      "fill factor of pw 100: 0.9182719604994427\n",
      "Voc of pw 100: 3.57\n",
      "time elapsed: 0.55 sec.\n"
     ]
    }
   ],
   "source": [
    "grid_number = [5, 10, 15, 25, 50]\n",
    "\n",
    "gaas_1j = SQCell(1.42, 300, 1)\n",
    "ingap_1j = SQCell(1.87, 300, 1)\n",
    "ingaas_1j = SQCell(1.0, 300, 1)\n",
    "\n",
    "mj_cell = MJCell([ingap_1j, gaas_1j, ingaas_1j])\n",
    "\n",
    "for fn in grid_number:\n",
    "    mg = HighResTriangGrid(finger_n=fn)\n",
    "\n",
    "    contacts_mask = mg.metal_image\n",
    "\n",
    "    contacts_mask = get_quater_image(contacts_mask)\n",
    "\n",
    "    illumination_mask = np.ones_like(contacts_mask) * 500\n",
    "\n",
    "    mg.metal_image = contacts_mask\n",
    "    mg.lr = 1e-5\n",
    "    mg.lc = 1e-5\n",
    "\n",
    "    pe = PWExp(illumination_mask, mg, vini=0, vfin=4.5, vstep=0.02,\n",
    "               test_pixel_width=[10, 20, 50, 100], file_prefix=\"III_D_{}\".format(fn))\n",
    "\n",
    "    pe.vary_pixel_width(mj_cell)"
   ]
  },
  {
   "cell_type": "code",
   "execution_count": null,
   "metadata": {
    "collapsed": true
   },
   "outputs": [],
   "source": []
  }
 ],
 "metadata": {
  "kernelspec": {
   "display_name": "Python 3",
   "language": "python",
   "name": "python3"
  },
  "language_info": {
   "codemirror_mode": {
    "name": "ipython",
    "version": 3
   },
   "file_extension": ".py",
   "mimetype": "text/x-python",
   "name": "python",
   "nbconvert_exporter": "python",
   "pygments_lexer": "ipython3",
   "version": "3.6.7"
  }
 },
 "nbformat": 4,
 "nbformat_minor": 2
}
