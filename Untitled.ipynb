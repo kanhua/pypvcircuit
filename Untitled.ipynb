{
 "cells": [
  {
   "cell_type": "code",
   "execution_count": 6,
   "metadata": {},
   "outputs": [
    {
     "name": "stdout",
     "output_type": "stream",
     "text": [
      "Solving 1D Solar Cell...\n",
      "Solving optics of the solar cell...\n",
      "Solving IV of the junctions...\n",
      "Solving IV of the tunnel junctions...\n",
      "Solving IV of the total solar cell...\n",
      "... Done!\n",
      "\n",
      "Solving quasi-3D Solar Cell...\n",
      "... Done!!\n"
     ]
    },
    {
     "name": "stderr",
     "output_type": "stream",
     "text": [
      "C:\\Users\\kanhu\\Anaconda3\\lib\\site-packages\\matplotlib\\ticker.py:2198: UserWarning: Data has no positive values, and therefore cannot be log-scaled.\n",
      "  \"Data has no positive values, and therefore cannot be \"\n"
     ]
    },
    {
     "data": {
      "image/png": "[encoded data removed]",
      "text/plain": [
       "<Figure size 432x288 with 1 Axes>"
      ]
     },
     "metadata": {},
     "output_type": "display_data"
    },
    {
     "data": {
      "image/png": "[encoded data removed]",
      "text/plain": [
       "<Figure size 432x288 with 1 Axes>"
      ]
     },
     "metadata": {},
     "output_type": "display_data"
    }
   ],
   "source": [
    "import numpy as np\n",
    "import matplotlib.pyplot as plt\n",
    "\n",
    "from solcore.structure import Junction\n",
    "from solcore.solar_cell import SolarCell\n",
    "from solcore.light_source import LightSource\n",
    "from solcore.spice import solve_quasi_3D\n",
    "\n",
    "# First we load the masks defining the illumination pattern and the contacts. Both must be greyscale images\n",
    "# The solver expect images with values between 0 and 255 and imread of a PNG image is between 0 and 1, even when\n",
    "# it is in grey, so we scale it multiplying by 255. If the image were JPG, the result would be already in (0,255).\n",
    "illuminationMask = (plt.imread('masks_illumination.png') * 255).astype(np.int)\n",
    "contactsMask = (plt.imread('masks_sq.png') * 255).astype(np.int)\n",
    "\n",
    "nx, ny = illuminationMask.shape\n",
    "\n",
    "# For symmetry arguments (not completely true for the illumination), we can mode just 1/4 of the device and then\n",
    "# multiply the current by 4\n",
    "center_x = int(nx / 2)\n",
    "center_y = int(ny / 2)\n",
    "illuminationMask = illuminationMask[center_x:, center_y:]\n",
    "contactsMask = contactsMask[center_x:, center_y:]\n",
    "\n",
    "# Size of the pixels (m)\n",
    "Lx = 10e-6\n",
    "Ly = 10e-6\n",
    "\n",
    "# Height of the metal fingers (m)\n",
    "h = 2.2e-6\n",
    "\n",
    "# Contact resistance (Ohm m2)\n",
    "Rcontact = 3e-10\n",
    "\n",
    "# Resistivity metal fingers (Ohm m)\n",
    "Rline = 2e-8\n",
    "\n",
    "# Bias (V)\n",
    "vini = 0\n",
    "vfin = 3.0\n",
    "step = 0.01\n",
    "\n",
    "T = 298\n",
    "\n",
    "from scipy.interpolate import interp1d\n",
    "\n",
    "top_qe_data = np.loadtxt(r\"C:\\Users\\kanhu\\Dropbox\\Programming\\solar-cell-circuit\\private_data\\azure_3c44_top.csv\",\n",
    "                         delimiter=\"\\t\")\n",
    "\n",
    "plt.plot(top_qe_data[:, 0], top_qe_data[:, 1])\n",
    "\n",
    "top_qe = interp1d(top_qe_data[:, 0], top_qe_data[:, 1])\n",
    "\n",
    "\n",
    "db_junction = Junction(kind='2D', T=T, reff=1, jref=300, Eg=0.66, A=1, R_sheet_top=100, R_sheet_bot=1e-16,\n",
    "                       R_shunt=1e16, n=3.5)\n",
    "db_junction2 = Junction(kind='2D', T=T, reff=1, jref=300, Eg=1.4, A=1, R_sheet_top=100, R_sheet_bot=1e-16,\n",
    "                        R_shunt=1e16, n=3.5)\n",
    "db_junction3 = Junction(kind='2D', T=T, reff=0.5, jref=300, Eg=1.8, A=1, R_sheet_top=100, R_sheet_bot=100,\n",
    "                        R_shunt=1e16, n=3.5,qe=top_qe)\n",
    "\n",
    "# For a single junction, this will have >28800 nodes and for the full 3J it will be >86400, so it is worth to\n",
    "# exploit symmetries whenever possible. A smaller number of nodes also makes the solver more robust.\n",
    "my_solar_cell = SolarCell([db_junction3], T=T)\n",
    "\n",
    "wl = np.linspace(350, 2000, 301) * 1e-9\n",
    "light_source = LightSource(source_type='standard', version='AM1.5g', x=wl, output_units='photon_flux_per_m',\n",
    "                           concentration=100)\n",
    "\n",
    "options = {'light_iv': True, 'wavelength': wl, 'light_source': light_source}\n",
    "\n",
    "V, I, Vall, Vmet = solve_quasi_3D(my_solar_cell, illuminationMask, contactsMask, options=options, Lx=Lx, Ly=Ly, h=h,\n",
    "                                  R_back=1e-16, R_contact=Rcontact, R_line=Rline, bias_start=vini, bias_end=vfin,\n",
    "                                  bias_step=step)\n",
    "\n",
    "# Since we model 1/4 of the device, we multiply the current by 4\n",
    "I = I * 4\n",
    "\n",
    "plt.figure(1)\n",
    "plt.imshow(Vall[:, :, -2, -1])\n",
    "\n",
    "plt.figure(2)\n",
    "plt.semilogy(V, abs(I))\n",
    "plt.show()\n"
   ]
  },
  {
   "cell_type": "code",
   "execution_count": 7,
   "metadata": {},
   "outputs": [
    {
     "data": {
      "text/plain": [
       "array([[255, 255, 255, ..., 121, 105,  88],\n",
       "       [255, 255, 255, ..., 122, 104,  90],\n",
       "       [255, 255, 255, ..., 121, 105,  86],\n",
       "       ...,\n",
       "       [105, 108, 109, ...,   3,   3,   2],\n",
       "       [ 85,  84,  88, ...,   2,   2,   1],\n",
       "       [ 64,  65,  66, ...,   2,   2,   1]])"
      ]
     },
     "execution_count": 7,
     "metadata": {},
     "output_type": "execute_result"
    }
   ],
   "source": [
    "illuminationMask"
   ]
  },
  {
   "cell_type": "code",
   "execution_count": 8,
   "metadata": {},
   "outputs": [
    {
     "data": {
      "text/plain": [
       "array([[  0,   0,   0, ...,   0,   0,   0],\n",
       "       [  0,   0,   0, ...,   0,   0,   0],\n",
       "       [  0,   0,   0, ...,   0,   0,   0],\n",
       "       ...,\n",
       "       [255, 255, 255, ..., 255,   0,   0],\n",
       "       [  0,   0,   0, ...,   0,   1,   0],\n",
       "       [  0,   0,   0, ...,   0,   0,   0]])"
      ]
     },
     "execution_count": 8,
     "metadata": {},
     "output_type": "execute_result"
    }
   ],
   "source": [
    "contactsMask"
   ]
  },
  {
   "cell_type": "code",
   "execution_count": 9,
   "metadata": {},
   "outputs": [
    {
     "data": {
      "text/plain": [
       "<matplotlib.image.AxesImage at 0x207ccb6af60>"
      ]
     },
     "execution_count": 9,
     "metadata": {},
     "output_type": "execute_result"
    },
    {
     "data": {
      "image/png": "[encoded data removed]",
      "text/plain": [
       "<Figure size 432x288 with 1 Axes>"
      ]
     },
     "metadata": {},
     "output_type": "display_data"
    }
   ],
   "source": [
    "plt.imshow(illuminationMask)"
   ]
  },
  {
   "cell_type": "code",
   "execution_count": 10,
   "metadata": {},
   "outputs": [
    {
     "data": {
      "text/plain": [
       "<matplotlib.image.AxesImage at 0x207ccc13908>"
      ]
     },
     "execution_count": 10,
     "metadata": {},
     "output_type": "execute_result"
    },
    {
     "data": {
      "image/png": "[encoded data removed]",
      "text/plain": [
       "<Figure size 432x288 with 1 Axes>"
      ]
     },
     "metadata": {},
     "output_type": "display_data"
    }
   ],
   "source": [
    "plt.imshow(contactsMask)"
   ]
  },
  {
   "cell_type": "code",
   "execution_count": null,
   "metadata": {},
   "outputs": [],
   "source": []
  }
 ],
 "metadata": {
  "kernelspec": {
   "display_name": "Python 3",
   "language": "python",
   "name": "python3"
  },
  "language_info": {
   "codemirror_mode": {
    "name": "ipython",
    "version": 3
   },
   "file_extension": ".py",
   "mimetype": "text/x-python",
   "name": "python",
   "nbconvert_exporter": "python",
   "pygments_lexer": "ipython3",
   "version": "3.6.5"
  }
 },
 "nbformat": 4,
 "nbformat_minor": 2
}
