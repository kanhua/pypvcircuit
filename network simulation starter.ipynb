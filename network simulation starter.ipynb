{
 "cells": [
  {
   "cell_type": "markdown",
   "metadata": {},
   "source": [
    "This is a starter file of network simulation.\n",
    "To start, you can change the section that are labeled with **[User]**\n"
   ]
  },
  {
   "cell_type": "markdown",
   "metadata": {},
   "source": [
    "Check file folder:"
   ]
  },
  {
   "cell_type": "code",
   "execution_count": 1,
   "metadata": {},
   "outputs": [],
   "source": [
    "import os\n",
    "from pypvcircuit.config_tool import user_config_data"
   ]
  },
  {
   "cell_type": "code",
   "execution_count": 2,
   "metadata": {},
   "outputs": [],
   "source": [
    "if os.path.exists(\"/data\"):\n",
    "    default_data_path=\"/data\"\n",
    "else:\n",
    "    default_data_path=\"./public_data\"\n",
    "default_savedata_path= user_config_data['Path_config']['output_path']"
   ]
  },
  {
   "cell_type": "markdown",
   "metadata": {},
   "source": [
    "## [USER] Set file path of mask profile"
   ]
  },
  {
   "cell_type": "code",
   "execution_count": 3,
   "metadata": {},
   "outputs": [],
   "source": [
    "mask_filepath=os.path.join(default_data_path,'masks_sq.png')"
   ]
  },
  {
   "cell_type": "markdown",
   "metadata": {},
   "source": [
    "## [USER] Set illumination profile\n",
    "The parameter ```profile``` can be either ```from_file``` or ```uniform```.\n",
    "```from_file```: load illumination profile from a file\n",
    "```uniform```: the profile is uniform"
   ]
  },
  {
   "cell_type": "code",
   "execution_count": 4,
   "metadata": {},
   "outputs": [],
   "source": [
    "profile='uniform'"
   ]
  },
  {
   "cell_type": "code",
   "execution_count": 5,
   "metadata": {},
   "outputs": [],
   "source": [
    "illumination_filepath=os.path.join(default_data_path,'masks_illumination.png')\n",
    "peak_concentration=200"
   ]
  },
  {
   "cell_type": "markdown",
   "metadata": {},
   "source": [
    "You have to set concentration if you want the profile to be uniform, i.e., ```profile=uniform```"
   ]
  },
  {
   "cell_type": "code",
   "execution_count": 6,
   "metadata": {},
   "outputs": [],
   "source": [
    "concentration=700"
   ]
  },
  {
   "cell_type": "markdown",
   "metadata": {},
   "source": [
    "## [USER] Set the folder name for storing output data"
   ]
  },
  {
   "cell_type": "code",
   "execution_count": 7,
   "metadata": {},
   "outputs": [],
   "source": [
    "save_data_path=default_savedata_path"
   ]
  },
  {
   "cell_type": "markdown",
   "metadata": {},
   "source": [
    "## [USER] Set solar cell parameters"
   ]
  },
  {
   "cell_type": "code",
   "execution_count": 8,
   "metadata": {},
   "outputs": [],
   "source": [
    "# Size of the pixels (m)\n",
    "l_r = 1e-6\n",
    "l_c = 1e-6\n",
    "\n",
    "h=2.2e-6\n",
    "\n",
    "# Start voltage\n",
    "vini = -0.1\n",
    "# End voltage\n",
    "vfin = 3.5\n",
    "# Voltage step\n",
    "step = 0.01\n",
    "\n",
    "# cell temperature in Kelvins\n",
    "T = 298\n",
    "\n",
    "lump_series_r=0"
   ]
  },
  {
   "cell_type": "markdown",
   "metadata": {},
   "source": [
    "## [USER] Set the merged pixel width\n"
   ]
  },
  {
   "cell_type": "code",
   "execution_count": 9,
   "metadata": {},
   "outputs": [],
   "source": [
    "rw=10 #row-direction\n",
    "cw=10 #columne-direction"
   ]
  },
  {
   "cell_type": "markdown",
   "metadata": {},
   "source": [
    "## [USER] Select the solar cell model\n",
    "Set ```solar_cell_model``` to `1` if you would like to assume that the subcells have ideal efficiencies. Set the solar cell model to `2` if you would like to use assign the EQEs."
   ]
  },
  {
   "cell_type": "code",
   "execution_count": 10,
   "metadata": {},
   "outputs": [],
   "source": [
    "solar_cell_model=1"
   ]
  },
  {
   "cell_type": "markdown",
   "metadata": {},
   "source": [
    "If you set ```solar_cell_model=1```, you have to assign the following model:"
   ]
  },
  {
   "cell_type": "code",
   "execution_count": 11,
   "metadata": {},
   "outputs": [],
   "source": [
    "top_cell_eg=1.87\n",
    "middle_cell_eg=1.42\n",
    "bottom_cell_eg=0.93"
   ]
  },
  {
   "cell_type": "markdown",
   "metadata": {},
   "source": [
    "If you set ```solar_cell_model=2```, you have to assign the EQE file"
   ]
  },
  {
   "cell_type": "code",
   "execution_count": 12,
   "metadata": {},
   "outputs": [],
   "source": [
    "# Load QE\n",
    "#QE_file=\"private_data/xx.csv\" #Solar junction cell: QE_SJ\n",
    "top_eqe_file=os.path.join(default_data_path,\"demo_eqe_top.csv\")\n",
    "mid_eqe_file=os.path.join(default_data_path,\"demo_eqe_mid.csv\")\n",
    "bot_eqe_file=os.path.join(default_data_path,\"demo_eqe_bot.csv\")"
   ]
  },
  {
   "cell_type": "markdown",
   "metadata": {},
   "source": [
    "## [USER] Set the external radiative efficiency\n",
    "This parameter affects the voltages of the cell."
   ]
  },
  {
   "cell_type": "code",
   "execution_count": 13,
   "metadata": {},
   "outputs": [],
   "source": [
    "top_cell_rad_eta=5e-3\n",
    "middle_cell_rad_eta=1e-2\n",
    "bottom_cell_rad_eta=1e-4"
   ]
  },
  {
   "cell_type": "markdown",
   "metadata": {},
   "source": [
    "### [USER] Set the light source\n",
    "spectrum can be AM1.5g or AM1.5d"
   ]
  },
  {
   "cell_type": "code",
   "execution_count": 14,
   "metadata": {},
   "outputs": [],
   "source": [
    "illumination_spectrum=\"AM1.5g\" # this value can be \"AM1.5g\" or \"AM1.5d\""
   ]
  },
  {
   "cell_type": "markdown",
   "metadata": {},
   "source": [
    "## Import the required packages"
   ]
  },
  {
   "cell_type": "code",
   "execution_count": 15,
   "metadata": {},
   "outputs": [],
   "source": [
    "import numpy as np\n",
    "\n",
    "import copy\n",
    "import matplotlib.pyplot as plt\n",
    "\n",
    "from skimage.io import imread\n",
    "from pypvcell.fom import ff,isc,voc\n",
    "from pypvcell.solarcell import SQCell,MJCell,DBCell\n",
    "from pypvcell.illumination import load_astm\n",
    "from pypvcell.spectrum import Spectrum\n",
    "\n",
    "from pypvcircuit.meshing import get_merged_r_image"
   ]
  },
  {
   "cell_type": "code",
   "execution_count": 16,
   "metadata": {},
   "outputs": [],
   "source": [
    "def to_data_path(filename):\n",
    "    return os.path.join(save_data_path,filename)"
   ]
  },
  {
   "cell_type": "markdown",
   "metadata": {},
   "source": [
    "## Load the pattern of the contact"
   ]
  },
  {
   "cell_type": "code",
   "execution_count": 17,
   "metadata": {},
   "outputs": [],
   "source": [
    "contactsMask = imread(mask_filepath, as_gray=True)"
   ]
  },
  {
   "cell_type": "code",
   "execution_count": 18,
   "metadata": {},
   "outputs": [
    {
     "data": {
      "text/plain": [
       "<matplotlib.image.AxesImage at 0x205e95d2c18>"
      ]
     },
     "execution_count": 18,
     "metadata": {},
     "output_type": "execute_result"
    },
    {
     "data": {
      "image/png": "[encoded data removed]",
      "text/plain": [
       "<Figure size 432x288 with 1 Axes>"
      ]
     },
     "metadata": {},
     "output_type": "display_data"
    }
   ],
   "source": [
    "plt.imshow(contactsMask)"
   ]
  },
  {
   "cell_type": "markdown",
   "metadata": {},
   "source": [
    "## Reduce the shape to 1/2 because of symmetry"
   ]
  },
  {
   "cell_type": "code",
   "execution_count": 19,
   "metadata": {},
   "outputs": [],
   "source": [
    "nx, ny = contactsMask.shape\n",
    "contactsMask = contactsMask[:, int(ny / 2):]"
   ]
  },
  {
   "cell_type": "code",
   "execution_count": 20,
   "metadata": {},
   "outputs": [
    {
     "data": {
      "text/plain": [
       "120"
      ]
     },
     "execution_count": 20,
     "metadata": {},
     "output_type": "execute_result"
    }
   ],
   "source": [
    "nx"
   ]
  },
  {
   "cell_type": "code",
   "execution_count": 21,
   "metadata": {},
   "outputs": [
    {
     "data": {
      "text/plain": [
       "<matplotlib.image.AxesImage at 0x205e9665978>"
      ]
     },
     "execution_count": 21,
     "metadata": {},
     "output_type": "execute_result"
    },
    {
     "data": {
      "image/png": "[encoded data removed]",
      "text/plain": [
       "<Figure size 432x288 with 1 Axes>"
      ]
     },
     "metadata": {},
     "output_type": "display_data"
    }
   ],
   "source": [
    "plt.imshow(contactsMask)"
   ]
  },
  {
   "cell_type": "markdown",
   "metadata": {},
   "source": [
    "## Make illumination"
   ]
  },
  {
   "cell_type": "markdown",
   "metadata": {},
   "source": [
    "Load the illumination profile. The file can be either a PNG file or a comma sepearted file."
   ]
  },
  {
   "cell_type": "code",
   "execution_count": 22,
   "metadata": {},
   "outputs": [],
   "source": [
    "# both csv and png file are supported.\n",
    "image_file=illumination_filepath\n",
    "#image_file=join(this_path,\"Illumination profile_20180926_random.csv\")"
   ]
  },
  {
   "cell_type": "code",
   "execution_count": 23,
   "metadata": {},
   "outputs": [],
   "source": [
    "def load_illumination(fname):\n",
    "    _,ext=os.path.splitext(fname)\n",
    "    ext=ext[1:].lower()\n",
    "    if (ext=='png'):\n",
    "        img=imread(fname)\n",
    "        if img.ndim==3:\n",
    "            img=img[:,:,0]\n",
    "    elif (ext=='csv'):\n",
    "        img=np.loadtxt(fname,delimiter=',')\n",
    "    return img"
   ]
  },
  {
   "cell_type": "code",
   "execution_count": 24,
   "metadata": {},
   "outputs": [],
   "source": [
    "one_sun_illumination=np.ones((nx,ny))*concentration"
   ]
  },
  {
   "cell_type": "code",
   "execution_count": 25,
   "metadata": {},
   "outputs": [],
   "source": [
    "if profile==\"uniform\":\n",
    "    img=one_sun_illumination\n",
    "elif profile==\"from_file\":\n",
    "    img=load_illumination(image_file)\n",
    "    #img=img.astype(np.float)*peak_concentration/np.max(img)\n",
    "else:\n",
    "     raise ValueError(\"The value of profile can be either *uniform* or *from_file*\")"
   ]
  },
  {
   "cell_type": "code",
   "execution_count": 26,
   "metadata": {},
   "outputs": [
    {
     "data": {
      "text/plain": [
       "<matplotlib.image.AxesImage at 0x205e96be5f8>"
      ]
     },
     "execution_count": 26,
     "metadata": {},
     "output_type": "execute_result"
    },
    {
     "data": {
      "image/png": "[encoded data removed]",
      "text/plain": [
       "<Figure size 432x288 with 1 Axes>"
      ]
     },
     "metadata": {},
     "output_type": "display_data"
    }
   ],
   "source": [
    "plt.imshow(img)"
   ]
  },
  {
   "cell_type": "markdown",
   "metadata": {},
   "source": [
    "### Show statistics of the profile"
   ]
  },
  {
   "cell_type": "markdown",
   "metadata": {},
   "source": [
    "Show histogram of pixel values"
   ]
  },
  {
   "cell_type": "code",
   "execution_count": 27,
   "metadata": {},
   "outputs": [
    {
     "data": {
      "image/png": "[encoded data removed]",
      "text/plain": [
       "<Figure size 432x288 with 1 Axes>"
      ]
     },
     "metadata": {},
     "output_type": "display_data"
    }
   ],
   "source": [
    "plt.hist(img.ravel(),bins=50)\n",
    "plt.show()"
   ]
  },
  {
   "cell_type": "markdown",
   "metadata": {},
   "source": [
    "Total of the pixel value:"
   ]
  },
  {
   "cell_type": "code",
   "execution_count": 28,
   "metadata": {},
   "outputs": [
    {
     "name": "stdout",
     "output_type": "stream",
     "text": [
      "The sum of total pixel value: 10080000.0\n"
     ]
    }
   ],
   "source": [
    "value_sum=np.sum(img)\n",
    "print(\"The sum of total pixel value: {}\".format(value_sum))"
   ]
  },
  {
   "cell_type": "code",
   "execution_count": 29,
   "metadata": {},
   "outputs": [
    {
     "name": "stdout",
     "output_type": "stream",
     "text": [
      "The sum of photon number: 1.1517408e+18\n"
     ]
    }
   ],
   "source": [
    "pixel_photon_unit=1.1426e11\n",
    "print(\"The sum of photon number: {}\".format(value_sum*pixel_photon_unit))"
   ]
  },
  {
   "cell_type": "markdown",
   "metadata": {},
   "source": [
    "### Reduce the shape to 1/2"
   ]
  },
  {
   "cell_type": "code",
   "execution_count": 30,
   "metadata": {},
   "outputs": [],
   "source": [
    "illuminationMask=img\n",
    "illuminationMask=illuminationMask[:, int(img.shape[1] / 2):]"
   ]
  },
  {
   "cell_type": "code",
   "execution_count": 31,
   "metadata": {},
   "outputs": [
    {
     "data": {
      "text/plain": [
       "<matplotlib.image.AxesImage at 0x205e97efe10>"
      ]
     },
     "execution_count": 31,
     "metadata": {},
     "output_type": "execute_result"
    },
    {
     "data": {
      "image/png": "[encoded data removed]",
      "text/plain": [
       "<Figure size 432x288 with 1 Axes>"
      ]
     },
     "metadata": {},
     "output_type": "display_data"
    }
   ],
   "source": [
    "plt.imshow(illuminationMask)"
   ]
  },
  {
   "cell_type": "code",
   "execution_count": 32,
   "metadata": {},
   "outputs": [
    {
     "data": {
      "text/plain": [
       "700.0"
      ]
     },
     "execution_count": 32,
     "metadata": {},
     "output_type": "execute_result"
    }
   ],
   "source": [
    "np.max(illuminationMask)"
   ]
  },
  {
   "cell_type": "code",
   "execution_count": 33,
   "metadata": {},
   "outputs": [
    {
     "data": {
      "text/plain": [
       "(120, 60)"
      ]
     },
     "execution_count": 33,
     "metadata": {},
     "output_type": "execute_result"
    }
   ],
   "source": [
    "illuminationMask.shape"
   ]
  },
  {
   "cell_type": "markdown",
   "metadata": {},
   "source": [
    "### Option 1: detailed-balanced limit\n",
    "This solar cell solver calculates the saturation current J01 and J02 from detail balanced model (assuming 100% aborptivity). Sheet resistance is assigned by the user."
   ]
  },
  {
   "cell_type": "code",
   "execution_count": 34,
   "metadata": {},
   "outputs": [],
   "source": [
    "# the solar cell parameters\n",
    "\n",
    "gaas_cell = SQCell(middle_cell_eg, T, middle_cell_rad_eta)\n",
    "ingap_cell = SQCell(top_cell_eg, T, top_cell_rad_eta)\n",
    "ge_cell = SQCell(bottom_cell_eg, T, bottom_cell_rad_eta)\n",
    "\n",
    "\n",
    "# assign which solar cell to use. For example, to use top cell, set my_solar_cell like this:\n",
    "# my_solar_cell=SolarCell([ingap_cell],T=T)\n",
    "# For full 3J solar cell, the parameter is like this:\n",
    "# my_solar_cell=SolarCell([ingap_cell,gaas_cell,ge_cell],T=T)\n",
    "solar_cell_1 = MJCell([ingap_cell,gaas_cell,ge_cell])"
   ]
  },
  {
   "cell_type": "markdown",
   "metadata": {},
   "source": [
    "### Option 2: solar cell with known EQE"
   ]
  },
  {
   "cell_type": "markdown",
   "metadata": {},
   "source": [
    "Use the following code snippets if your EQE file has four columns: wavelength, top cell EQE, middle cell EQE, bottom cell EQEs\n",
    "```\n",
    "all_EQE=np.loadtxt(QE_file,delimiter=',',skiprows=1)\n",
    "#eliminate the QE values <0\n",
    "for i in range(1,all_EQE.shape[1]):\n",
    "    c=np.nonzero(all_EQE[:,i]<0)\n",
    "    all_EQE[c,i]=0\n",
    "\n",
    "start_idx=0\n",
    "end_idx=all_EQE.shape[0]\n",
    "top_cell_eqe=Spectrum(x_data=all_EQE[start_idx:end_idx,0],y_data=all_EQE[start_idx:end_idx,1],x_unit='nm')\n",
    "mid_cell_eqe=Spectrum(x_data=all_EQE[start_idx:end_idx,0],y_data=all_EQE[start_idx:end_idx,2],x_unit='nm')\n",
    "bot_cell_eqe=Spectrum(x_data=all_EQE[start_idx:end_idx,0],y_data=all_EQE[start_idx:end_idx,3],x_unit='nm')\n",
    "```"
   ]
  },
  {
   "cell_type": "code",
   "execution_count": 35,
   "metadata": {},
   "outputs": [],
   "source": [
    "top_eqe=np.loadtxt(top_eqe_file,delimiter=',',skiprows=1)\n",
    "mid_eqe=np.loadtxt(mid_eqe_file,delimiter=',',skiprows=1)\n",
    "bot_eqe=np.loadtxt(bot_eqe_file,delimiter=',',skiprows=1)"
   ]
  },
  {
   "cell_type": "markdown",
   "metadata": {},
   "source": [
    "Convert the EQE from percentages to numerics"
   ]
  },
  {
   "cell_type": "code",
   "execution_count": 36,
   "metadata": {},
   "outputs": [],
   "source": [
    "top_eqe[:,1]=top_eqe[:,1]/100\n",
    "mid_eqe[:,1]=mid_eqe[:,1]/100\n",
    "bot_eqe[:,1]=bot_eqe[:,1]/100"
   ]
  },
  {
   "cell_type": "code",
   "execution_count": 37,
   "metadata": {},
   "outputs": [],
   "source": [
    "top_cell_eqe=Spectrum(x_data=top_eqe[:,0],y_data=top_eqe[:,1],x_unit='nm')\n",
    "mid_cell_eqe=Spectrum(x_data=mid_eqe[:,0],y_data=mid_eqe[:,1],x_unit='nm')\n",
    "bot_cell_eqe=Spectrum(x_data=bot_eqe[:,0],y_data=bot_eqe[:,1],x_unit='nm')"
   ]
  },
  {
   "cell_type": "code",
   "execution_count": 38,
   "metadata": {},
   "outputs": [],
   "source": [
    "gaas_db_cell=DBCell(mid_cell_eqe,rad_eta=middle_cell_rad_eta,T=T,eg=1.4)\n",
    "ingaas_db_cell=DBCell(bot_cell_eqe,rad_eta=bottom_cell_rad_eta,T=T,eg=0.93)\n",
    "ingap_db_cell=DBCell(top_cell_eqe,rad_eta=top_cell_rad_eta,T=T,eg=1.87)\n",
    "solar_cell_2=MJCell([ingap_db_cell,gaas_db_cell,ingaas_db_cell])"
   ]
  },
  {
   "cell_type": "code",
   "execution_count": 39,
   "metadata": {},
   "outputs": [
    {
     "data": {
      "text/plain": [
       "1.1090535895329757e-15"
      ]
     },
     "execution_count": 39,
     "metadata": {},
     "output_type": "execute_result"
    }
   ],
   "source": [
    "gaas_db_cell.j01_r"
   ]
  },
  {
   "cell_type": "code",
   "execution_count": 40,
   "metadata": {},
   "outputs": [],
   "source": [
    "if solar_cell_model==1:\n",
    "    my_solar_cell=solar_cell_1\n",
    "elif solar_cell_model==2:\n",
    "    my_solar_cell=solar_cell_2"
   ]
  },
  {
   "cell_type": "code",
   "execution_count": 41,
   "metadata": {},
   "outputs": [
    {
     "data": {
      "text/plain": [
       "(120, 60)"
      ]
     },
     "execution_count": 41,
     "metadata": {},
     "output_type": "execute_result"
    }
   ],
   "source": [
    "illuminationMask.shape"
   ]
  },
  {
   "cell_type": "code",
   "execution_count": 42,
   "metadata": {},
   "outputs": [
    {
     "data": {
      "text/plain": [
       "(120, 60)"
      ]
     },
     "execution_count": 42,
     "metadata": {},
     "output_type": "execute_result"
    }
   ],
   "source": [
    "contactsMask.shape"
   ]
  },
  {
   "cell_type": "markdown",
   "metadata": {},
   "source": [
    "Set the solar spectrum"
   ]
  },
  {
   "cell_type": "code",
   "execution_count": 43,
   "metadata": {},
   "outputs": [],
   "source": [
    "my_solar_cell.set_input_spectrum(load_astm(illumination_spectrum)) "
   ]
  },
  {
   "cell_type": "markdown",
   "metadata": {},
   "source": [
    "### Launch the solver"
   ]
  },
  {
   "cell_type": "code",
   "execution_count": 44,
   "metadata": {
    "scrolled": true
   },
   "outputs": [],
   "source": [
    "from pypvcircuit.parse_spice_input import NodeReducer\n",
    "from pypvcircuit.spice_solver import SPICESolver\n",
    "\n",
    "nd = NodeReducer()"
   ]
  },
  {
   "cell_type": "code",
   "execution_count": 45,
   "metadata": {},
   "outputs": [
    {
     "name": "stdout",
     "output_type": "stream",
     "text": [
      "Wall time: 0 ns\n",
      "number of data:361\n"
     ]
    }
   ],
   "source": [
    "%time\n",
    "sps = SPICESolver(solarcell=my_solar_cell, illumination=illuminationMask,\n",
    "                  metal_contact=contactsMask, rw=rw, cw=cw, v_start=vini, v_end=vfin,\n",
    "                  v_steps=step,l_r=l_r,l_c=l_c, h=h, spice_preprocessor=nd,lump_series_r=lump_series_r)"
   ]
  },
  {
   "cell_type": "markdown",
   "metadata": {},
   "source": [
    "### Voltage map"
   ]
  },
  {
   "cell_type": "code",
   "execution_count": 46,
   "metadata": {},
   "outputs": [
    {
     "data": {
      "text/plain": [
       "<matplotlib.colorbar.Colorbar at 0x205ea7c4d68>"
      ]
     },
     "execution_count": 46,
     "metadata": {},
     "output_type": "execute_result"
    },
    {
     "data": {
      "image/png": "[encoded data removed]",
      "text/plain": [
       "<Figure size 432x288 with 2 Axes>"
      ]
     },
     "metadata": {},
     "output_type": "display_data"
    }
   ],
   "source": [
    "plt.imshow(sps.get_end_voltage_map())\n",
    "plt.colorbar()"
   ]
  },
  {
   "cell_type": "markdown",
   "metadata": {},
   "source": [
    "### Downsampled image"
   ]
  },
  {
   "cell_type": "code",
   "execution_count": 47,
   "metadata": {},
   "outputs": [
    {
     "data": {
      "text/plain": [
       "<matplotlib.image.AxesImage at 0x205e9da7320>"
      ]
     },
     "execution_count": 47,
     "metadata": {},
     "output_type": "execute_result"
    },
    {
     "data": {
      "image/png": "[encoded data removed]",
      "text/plain": [
       "<Figure size 432x288 with 1 Axes>"
      ]
     },
     "metadata": {},
     "output_type": "display_data"
    }
   ],
   "source": [
    "r_image=get_merged_r_image(contactsMask,rw,cw)\n",
    "plt.imshow(r_image)"
   ]
  },
  {
   "cell_type": "code",
   "execution_count": 48,
   "metadata": {},
   "outputs": [
    {
     "data": {
      "image/png": "[encoded data removed]",
      "text/plain": [
       "<Figure size 432x288 with 1 Axes>"
      ]
     },
     "metadata": {},
     "output_type": "display_data"
    }
   ],
   "source": [
    "plt.semilogy(sps.V, abs(sps.I))\n",
    "plt.show()"
   ]
  },
  {
   "cell_type": "markdown",
   "metadata": {},
   "source": [
    "## Plot in linear scale"
   ]
  },
  {
   "cell_type": "code",
   "execution_count": 49,
   "metadata": {},
   "outputs": [
    {
     "data": {
      "text/plain": [
       "[<matplotlib.lines.Line2D at 0x205e9771860>]"
      ]
     },
     "execution_count": 49,
     "metadata": {},
     "output_type": "execute_result"
    },
    {
     "data": {
      "image/png": "[encoded data removed]",
      "text/plain": [
       "<Figure size 432x288 with 1 Axes>"
      ]
     },
     "metadata": {},
     "output_type": "display_data"
    }
   ],
   "source": [
    "plt.plot(sps.V, sps.I)"
   ]
  },
  {
   "cell_type": "markdown",
   "metadata": {},
   "source": [
    "Zoom in to negative current"
   ]
  },
  {
   "cell_type": "code",
   "execution_count": 50,
   "metadata": {},
   "outputs": [
    {
     "data": {
      "text/plain": [
       "(-0.0005660663161999999, 0)"
      ]
     },
     "execution_count": 50,
     "metadata": {},
     "output_type": "execute_result"
    },
    {
     "data": {
      "image/png": "[encoded data removed]",
      "text/plain": [
       "<Figure size 432x288 with 1 Axes>"
      ]
     },
     "metadata": {},
     "output_type": "display_data"
    }
   ],
   "source": [
    "plt.plot(sps.V, sps.I)\n",
    "plt.ylim([np.min(sps.I)*1.1,0])"
   ]
  },
  {
   "cell_type": "code",
   "execution_count": 51,
   "metadata": {},
   "outputs": [
    {
     "name": "stdout",
     "output_type": "stream",
     "text": [
      "Isc:-0.0010292114839999997\n"
     ]
    }
   ],
   "source": [
    "isc_value=isc(sps.V,sps.I)*2\n",
    "print(\"Isc:{}\".format(isc_value))"
   ]
  },
  {
   "cell_type": "code",
   "execution_count": 52,
   "metadata": {},
   "outputs": [
    {
     "name": "stdout",
     "output_type": "stream",
     "text": [
      "Voc:3.131100129497397\n"
     ]
    }
   ],
   "source": [
    "voc_value=voc(sps.V,sps.I)\n",
    "print(\"Voc:{}\".format(voc_value))"
   ]
  },
  {
   "cell_type": "code",
   "execution_count": 53,
   "metadata": {},
   "outputs": [
    {
     "name": "stdout",
     "output_type": "stream",
     "text": [
      "FF:0.9303960509464434\n"
     ]
    }
   ],
   "source": [
    "ff_value=ff(sps.V,sps.I)\n",
    "print(\"FF:{}\".format(ff_value))"
   ]
  },
  {
   "cell_type": "markdown",
   "metadata": {},
   "source": [
    "## Export the I-V characteristics into a CSV file"
   ]
  },
  {
   "cell_type": "markdown",
   "metadata": {},
   "source": [
    "The result is written into the file ```iv_result.csv```"
   ]
  },
  {
   "cell_type": "code",
   "execution_count": 54,
   "metadata": {},
   "outputs": [],
   "source": [
    "output_iv=np.vstack([sps.V,sps.I]).T\n",
    "np.savetxt(to_data_path('iv_result.csv'),output_iv,delimiter=',')"
   ]
  },
  {
   "cell_type": "markdown",
   "metadata": {
    "collapsed": true
   },
   "source": [
    "## Compare simulation with different grid sizes"
   ]
  },
  {
   "cell_type": "code",
   "execution_count": 55,
   "metadata": {},
   "outputs": [],
   "source": [
    "test_pws=[10,5,2]\n",
    "file_prefix=\"3j_pana_\""
   ]
  },
  {
   "cell_type": "code",
   "execution_count": 56,
   "metadata": {},
   "outputs": [
    {
     "name": "stdout",
     "output_type": "stream",
     "text": [
      "Wall time: 0 ns\n",
      "number of data:361\n",
      "number of data:361\n",
      "number of data:361\n"
     ]
    },
    {
     "data": {
      "image/png": "[encoded data removed]",
      "text/plain": [
       "<Figure size 432x288 with 1 Axes>"
      ]
     },
     "metadata": {},
     "output_type": "display_data"
    }
   ],
   "source": [
    "%time\n",
    "result_vi=None\n",
    "for pw in test_pws:\n",
    "    nd = NodeReducer()\n",
    "\n",
    "    sps = SPICESolver(solarcell=my_solar_cell, illumination=illuminationMask,\n",
    "                  metal_contact=contactsMask, rw=pw, cw=pw, v_start=vini, v_end=vfin,\n",
    "                  v_steps=step,l_r=l_r,l_c=l_c, h=h, spice_preprocessor=nd)\n",
    "\n",
    "    # Since we model 1/4 of the device, we multiply the current by 4\n",
    "    sps.I = sps.I * 2\n",
    "    np.save(to_data_path(\"{}_vmap_{}.npy\".format(file_prefix, pw)), sps.get_end_voltage_map())\n",
    "\n",
    "    if result_vi is None:\n",
    "        result_vi = np.stack((sps.V, sps.I))\n",
    "    else:\n",
    "        result_vi = np.vstack((result_vi, sps.V, sps.I))\n",
    "        plt.plot(sps.V, sps.I, label=\"pw: {}\".format(pw))"
   ]
  },
  {
   "cell_type": "code",
   "execution_count": 57,
   "metadata": {},
   "outputs": [
    {
     "data": {
      "text/plain": [
       "<Figure size 432x288 with 0 Axes>"
      ]
     },
     "metadata": {},
     "output_type": "display_data"
    }
   ],
   "source": [
    "np.savetxt(to_data_path(\"{}_3j_iv.csv\".format(file_prefix)), result_vi.T,\n",
    "                   delimiter=',')\n",
    "\n",
    "plt.savefig(to_data_path(\"{}_1jfig.png\".format(file_prefix)))"
   ]
  },
  {
   "cell_type": "code",
   "execution_count": 58,
   "metadata": {},
   "outputs": [
    {
     "name": "stdout",
     "output_type": "stream",
     "text": [
      "fill factor of pw 10: 0.9304\n",
      "fill factor of pw 5: 0.9304\n",
      "fill factor of pw 2: 0.9304\n"
     ]
    },
    {
     "data": {
      "image/png": "[encoded data removed]",
      "text/plain": [
       "<Figure size 432x288 with 1 Axes>"
      ]
     },
     "metadata": {},
     "output_type": "display_data"
    }
   ],
   "source": [
    "iv=np.loadtxt(to_data_path(\"{}_3j_iv.csv\").format(file_prefix),delimiter=',')\n",
    "for i in range(0,iv.shape[1],2):\n",
    "    plt.plot(iv[:,i],iv[:,i+1],label=\"{0}x{0} pixels per node\".format(test_pws[i//2]))\n",
    "    iv_ff=ff(iv[:,i],iv[:,i+1])\n",
    "    print(\"fill factor of pw {}: {:.4f}\".format(test_pws[i//2],iv_ff))\n",
    "plt.ylim((np.min(iv[:,1])*1.1,0.001))\n",
    "plt.xlabel(\"voltage (V)\")\n",
    "plt.ylabel(\"current (A)\")\n",
    "plt.legend()\n",
    "plt.savefig(to_data_path(\"iv_fig.png\"),dpi=300)"
   ]
  },
  {
   "cell_type": "code",
   "execution_count": 59,
   "metadata": {
    "scrolled": true
   },
   "outputs": [
    {
     "data": {
      "image/png": "[encoded data removed]",
      "text/plain": [
       "<Figure size 2400x1800 with 4 Axes>"
      ]
     },
     "metadata": {},
     "output_type": "display_data"
    }
   ],
   "source": [
    "fig,ax=plt.subplots(ncols=len(test_pws)+1,figsize=(8,6),dpi=300)\n",
    "for i, pw in enumerate(test_pws): \n",
    "    r_image=get_merged_r_image(contactsMask,pw,pw)\n",
    "    ax[i].imshow(r_image)\n",
    "    ax[i].set_title(\"{} pixels\".format(pw))\n",
    "r_image=get_merged_r_image(contactsMask,1,1)\n",
    "ax[-1].imshow(r_image)\n",
    "ax[-1].set_title(\"original\")\n",
    "fig.savefig(to_data_path(\"equiv_r_images.png\"))"
   ]
  },
  {
   "cell_type": "code",
   "execution_count": 60,
   "metadata": {},
   "outputs": [
    {
     "data": {
      "image/png": "[encoded data removed]",
      "text/plain": [
       "<Figure size 432x288 with 3 Axes>"
      ]
     },
     "metadata": {},
     "output_type": "display_data"
    }
   ],
   "source": [
    "fig,ax=plt.subplots(ncols=len(test_pws))\n",
    "for i, pw in enumerate(test_pws):\n",
    "    vmap=np.load(to_data_path('{}_vmap_{}.npy').format(file_prefix,pw))\n",
    "    ax[i].imshow(vmap)"
   ]
  },
  {
   "cell_type": "code",
   "execution_count": null,
   "metadata": {},
   "outputs": [],
   "source": []
  }
 ],
 "metadata": {
  "kernelspec": {
   "display_name": "Python 3",
   "language": "python",
   "name": "python3"
  },
  "language_info": {
   "codemirror_mode": {
    "name": "ipython",
    "version": 3
   },
   "file_extension": ".py",
   "mimetype": "text/x-python",
   "name": "python",
   "nbconvert_exporter": "python",
   "pygments_lexer": "ipython3",
   "version": "3.6.5"
  }
 },
 "nbformat": 4,
 "nbformat_minor": 2
}
