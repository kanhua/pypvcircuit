{
 "cells": [
  {
   "cell_type": "markdown",
   "metadata": {},
   "source": [
    "This is a starter file of network simulation.\n",
    "To start, you can change the section that are labeled with **[User]**\n"
   ]
  },
  {
   "cell_type": "markdown",
   "metadata": {},
   "source": [
    "## [USER] Set file path of mask profile"
   ]
  },
  {
   "cell_type": "code",
   "execution_count": 1,
   "metadata": {},
   "outputs": [],
   "source": [
    "mask_filepath='./private_data/Mask_profile_20181016.png'\n"
   ]
  },
  {
   "cell_type": "markdown",
   "metadata": {},
   "source": [
    "## Set illumination profile\n",
    "The parameter ```profile``` can be either ```from_file``` or ```uniform```.\n",
    "```from_file```: load illumination profile from a file\n",
    "```uniform```: the profile is uniform"
   ]
  },
  {
   "cell_type": "code",
   "execution_count": 2,
   "metadata": {},
   "outputs": [],
   "source": [
    "profile='uniform'"
   ]
  },
  {
   "cell_type": "code",
   "execution_count": 3,
   "metadata": {},
   "outputs": [],
   "source": [
    "illumination_filepath='./private_data/Illumination_profile_20181016.png'"
   ]
  },
  {
   "cell_type": "markdown",
   "metadata": {},
   "source": [
    "You have to set concentration if you want the profile to be uniform, i.e., ```profile=uniform```"
   ]
  },
  {
   "cell_type": "code",
   "execution_count": 4,
   "metadata": {},
   "outputs": [],
   "source": [
    "concentration=1"
   ]
  },
  {
   "cell_type": "markdown",
   "metadata": {},
   "source": [
    "## [USER] Set the folder name for storing output data"
   ]
  },
  {
   "cell_type": "code",
   "execution_count": 5,
   "metadata": {},
   "outputs": [],
   "source": [
    "save_data_path=\"./tmp_out/\""
   ]
  },
  {
   "cell_type": "markdown",
   "metadata": {},
   "source": [
    "## [USER] Set solar cell parameters"
   ]
  },
  {
   "cell_type": "code",
   "execution_count": 6,
   "metadata": {},
   "outputs": [],
   "source": [
    "# Size of the pixels (m)\n",
    "l_r = 1e-6\n",
    "l_c = 1e-6\n",
    "\n",
    "h=2.2e-6\n",
    "\n",
    "# Start voltage\n",
    "vini = 0\n",
    "# End voltage\n",
    "vfin = 3.5\n",
    "# Voltage step\n",
    "step = 0.01\n",
    "\n",
    "# cell temperature in Kelvins\n",
    "T = 298"
   ]
  },
  {
   "cell_type": "markdown",
   "metadata": {},
   "source": [
    "## [USER] Set the merged pixel width\n"
   ]
  },
  {
   "cell_type": "code",
   "execution_count": 7,
   "metadata": {},
   "outputs": [],
   "source": [
    "rw=25 #row-direction\n",
    "cw=25 #columne-direction"
   ]
  },
  {
   "cell_type": "markdown",
   "metadata": {},
   "source": [
    "## [USER] Select the solar cell model\n",
    "Set ```solar_cell_model``` to `1` if you would like to assume that the subcells have ideal efficiencies. Set the solar cell model to `2` if you would like to use assign the EQEs."
   ]
  },
  {
   "cell_type": "code",
   "execution_count": 8,
   "metadata": {},
   "outputs": [],
   "source": [
    "solar_cell_model=1"
   ]
  },
  {
   "cell_type": "markdown",
   "metadata": {},
   "source": [
    "If you set ```solar_cell_model=1```, you have to assign the following model:"
   ]
  },
  {
   "cell_type": "code",
   "execution_count": 9,
   "metadata": {},
   "outputs": [],
   "source": [
    "top_cell_eg=1.87\n",
    "middle_cell_eg=1.42\n",
    "bottom_cell_eg=0.93"
   ]
  },
  {
   "cell_type": "markdown",
   "metadata": {},
   "source": [
    "If you set ```solar_cell_model=2```, you have to assign the EQE file"
   ]
  },
  {
   "cell_type": "code",
   "execution_count": 10,
   "metadata": {},
   "outputs": [],
   "source": [
    "# Load QE\n",
    "QE_file=\"private_data/EQE_Azur_3C44.csv\" #Solar junction cell: QE_SJ"
   ]
  },
  {
   "cell_type": "markdown",
   "metadata": {},
   "source": [
    "## [USER] Set the external radiative efficiency\n",
    "This parameter affects the voltages of the cell."
   ]
  },
  {
   "cell_type": "code",
   "execution_count": 11,
   "metadata": {},
   "outputs": [],
   "source": [
    "top_cell_rad_eta=5e-3\n",
    "middle_cell_rad_eta=1e-2\n",
    "bottom_cell_rad_eta=1e-4"
   ]
  },
  {
   "cell_type": "markdown",
   "metadata": {},
   "source": [
    "### [USER] Set the light source\n",
    "spectrum can be AM1.5g or AM1.5d"
   ]
  },
  {
   "cell_type": "code",
   "execution_count": 12,
   "metadata": {},
   "outputs": [],
   "source": [
    "illumination_spectrum=\"AM1.5g\" # this value can be \"AM1.5g\" or \"AM1.5d\""
   ]
  },
  {
   "cell_type": "markdown",
   "metadata": {},
   "source": [
    "## Import the required packages"
   ]
  },
  {
   "cell_type": "code",
   "execution_count": 13,
   "metadata": {},
   "outputs": [],
   "source": [
    "import numpy as np\n",
    "import os\n",
    "import copy\n",
    "import matplotlib.pyplot as plt\n",
    "\n",
    "from skimage.io import imread\n",
    "from pypvcell.fom import ff,isc,voc\n",
    "from pypvcell.solarcell import SQCell,MJCell,DBCell\n",
    "from pypvcell.illumination import load_astm\n",
    "from pypvcell.spectrum import Spectrum\n",
    "\n",
    "from pypvcircuit.meshing import get_merged_r_image"
   ]
  },
  {
   "cell_type": "code",
   "execution_count": 14,
   "metadata": {},
   "outputs": [],
   "source": [
    "def to_data_path(filename):\n",
    "    return os.path.join(save_data_path,filename)"
   ]
  },
  {
   "cell_type": "markdown",
   "metadata": {},
   "source": [
    "## Load the pattern of the contact"
   ]
  },
  {
   "cell_type": "code",
   "execution_count": 15,
   "metadata": {},
   "outputs": [],
   "source": [
    "contactsMask = imread(mask_filepath)\n",
    "contactsMask=contactsMask[:,:,0]"
   ]
  },
  {
   "cell_type": "code",
   "execution_count": 16,
   "metadata": {},
   "outputs": [
    {
     "data": {
      "text/plain": [
       "<matplotlib.image.AxesImage at 0x1c1a1abf28>"
      ]
     },
     "execution_count": 16,
     "metadata": {},
     "output_type": "execute_result"
    },
    {
     "data": {
      "image/png": "[encoded data removed]",
      "text/plain": [
       "<Figure size 432x288 with 1 Axes>"
      ]
     },
     "metadata": {},
     "output_type": "display_data"
    }
   ],
   "source": [
    "plt.imshow(contactsMask)"
   ]
  },
  {
   "cell_type": "code",
   "execution_count": 17,
   "metadata": {},
   "outputs": [
    {
     "data": {
      "text/plain": [
       "[<matplotlib.lines.Line2D at 0x1c193b0a58>]"
      ]
     },
     "execution_count": 17,
     "metadata": {},
     "output_type": "execute_result"
    },
    {
     "data": {
      "image/png": "[encoded data removed]",
      "text/plain": [
       "<Figure size 432x288 with 1 Axes>"
      ]
     },
     "metadata": {},
     "output_type": "display_data"
    }
   ],
   "source": [
    "plt.plot(contactsMask[200,:])"
   ]
  },
  {
   "cell_type": "markdown",
   "metadata": {},
   "source": [
    "## Reduce the shape to 1/2 because of symmetry"
   ]
  },
  {
   "cell_type": "code",
   "execution_count": 18,
   "metadata": {},
   "outputs": [],
   "source": [
    "nx, ny = contactsMask.shape\n",
    "contactsMask = contactsMask[:, int(ny / 2):]"
   ]
  },
  {
   "cell_type": "code",
   "execution_count": 19,
   "metadata": {},
   "outputs": [
    {
     "data": {
      "text/plain": [
       "1000"
      ]
     },
     "execution_count": 19,
     "metadata": {},
     "output_type": "execute_result"
    }
   ],
   "source": [
    "nx"
   ]
  },
  {
   "cell_type": "code",
   "execution_count": 20,
   "metadata": {},
   "outputs": [
    {
     "data": {
      "text/plain": [
       "<matplotlib.image.AxesImage at 0x1c1b1288d0>"
      ]
     },
     "execution_count": 20,
     "metadata": {},
     "output_type": "execute_result"
    },
    {
     "data": {
      "image/png": "[encoded data removed]",
      "text/plain": [
       "<Figure size 432x288 with 1 Axes>"
      ]
     },
     "metadata": {},
     "output_type": "display_data"
    }
   ],
   "source": [
    "plt.imshow(contactsMask)"
   ]
  },
  {
   "cell_type": "markdown",
   "metadata": {},
   "source": [
    "## Make illumination"
   ]
  },
  {
   "cell_type": "markdown",
   "metadata": {},
   "source": [
    "Load the illumination profile. The file can be either a PNG file or a comma sepearted file."
   ]
  },
  {
   "cell_type": "code",
   "execution_count": 21,
   "metadata": {},
   "outputs": [],
   "source": [
    "# both csv and png file are supported.\n",
    "image_file=illumination_filepath\n",
    "#image_file=join(this_path,\"Illumination profile_20180926_random.csv\")"
   ]
  },
  {
   "cell_type": "code",
   "execution_count": 22,
   "metadata": {},
   "outputs": [],
   "source": [
    "def load_illumination(fname):\n",
    "    _,ext=os.path.splitext(fname)\n",
    "    ext=ext[1:].lower()\n",
    "    if (ext=='png'):\n",
    "        img=imread(fname)\n",
    "        if img.ndim==3:\n",
    "            img=img[:,:,0]\n",
    "    elif (ext=='csv'):\n",
    "        img=np.loadtxt(fname,delimiter=',')\n",
    "    return img"
   ]
  },
  {
   "cell_type": "code",
   "execution_count": 23,
   "metadata": {},
   "outputs": [],
   "source": [
    "one_sun_illumination=np.ones((nx,ny))*concentration"
   ]
  },
  {
   "cell_type": "code",
   "execution_count": 24,
   "metadata": {},
   "outputs": [],
   "source": [
    "if profile==\"uniform\":\n",
    "    img=one_sun_illumination\n",
    "elif profile==\"from_file\":\n",
    "    img=load_illumination(image_file)\n",
    "else:\n",
    "     raise ValueError(\"The value of profile can be either *uniform* or *from_file*\")   "
   ]
  },
  {
   "cell_type": "code",
   "execution_count": 25,
   "metadata": {},
   "outputs": [
    {
     "data": {
      "text/plain": [
       "<matplotlib.image.AxesImage at 0x1c1b178ac8>"
      ]
     },
     "execution_count": 25,
     "metadata": {},
     "output_type": "execute_result"
    },
    {
     "data": {
      "image/png": "[encoded data removed]",
      "text/plain": [
       "<Figure size 432x288 with 1 Axes>"
      ]
     },
     "metadata": {},
     "output_type": "display_data"
    }
   ],
   "source": [
    "plt.imshow(img)"
   ]
  },
  {
   "cell_type": "markdown",
   "metadata": {},
   "source": [
    "### Show statistics of the profile"
   ]
  },
  {
   "cell_type": "markdown",
   "metadata": {},
   "source": [
    "Show histogram of pixel values"
   ]
  },
  {
   "cell_type": "code",
   "execution_count": 26,
   "metadata": {},
   "outputs": [
    {
     "data": {
      "image/png": "[encoded data removed]",
      "text/plain": [
       "<Figure size 432x288 with 1 Axes>"
      ]
     },
     "metadata": {},
     "output_type": "display_data"
    }
   ],
   "source": [
    "plt.hist(img.ravel(),bins=50)\n",
    "plt.show()"
   ]
  },
  {
   "cell_type": "markdown",
   "metadata": {},
   "source": [
    "Total of the pixel value:"
   ]
  },
  {
   "cell_type": "code",
   "execution_count": 27,
   "metadata": {},
   "outputs": [
    {
     "name": "stdout",
     "output_type": "stream",
     "text": [
      "The sum of total pixel value: 1000000.0\n"
     ]
    }
   ],
   "source": [
    "value_sum=np.sum(img)\n",
    "print(\"The sum of total pixel value: {}\".format(value_sum))"
   ]
  },
  {
   "cell_type": "code",
   "execution_count": 28,
   "metadata": {},
   "outputs": [
    {
     "name": "stdout",
     "output_type": "stream",
     "text": [
      "The sum of photon number: 1.1426e+17\n"
     ]
    }
   ],
   "source": [
    "pixel_photon_unit=1.1426e11\n",
    "print(\"The sum of photon number: {}\".format(value_sum*pixel_photon_unit))"
   ]
  },
  {
   "cell_type": "markdown",
   "metadata": {},
   "source": [
    "### Reduce the shape to 1/2"
   ]
  },
  {
   "cell_type": "code",
   "execution_count": 29,
   "metadata": {},
   "outputs": [],
   "source": [
    "illuminationMask=img\n",
    "illuminationMask=illuminationMask[:, int(img.shape[1] / 2):]"
   ]
  },
  {
   "cell_type": "code",
   "execution_count": 30,
   "metadata": {},
   "outputs": [
    {
     "data": {
      "text/plain": [
       "<matplotlib.image.AxesImage at 0x1c1d2e3e10>"
      ]
     },
     "execution_count": 30,
     "metadata": {},
     "output_type": "execute_result"
    },
    {
     "data": {
      "image/png": "[encoded data removed]",
      "text/plain": [
       "<Figure size 432x288 with 1 Axes>"
      ]
     },
     "metadata": {},
     "output_type": "display_data"
    }
   ],
   "source": [
    "plt.imshow(illuminationMask)"
   ]
  },
  {
   "cell_type": "code",
   "execution_count": 31,
   "metadata": {},
   "outputs": [
    {
     "data": {
      "text/plain": [
       "1.0"
      ]
     },
     "execution_count": 31,
     "metadata": {},
     "output_type": "execute_result"
    }
   ],
   "source": [
    "np.max(illuminationMask)"
   ]
  },
  {
   "cell_type": "code",
   "execution_count": 32,
   "metadata": {},
   "outputs": [
    {
     "data": {
      "text/plain": [
       "(1000, 500)"
      ]
     },
     "execution_count": 32,
     "metadata": {},
     "output_type": "execute_result"
    }
   ],
   "source": [
    "illuminationMask.shape"
   ]
  },
  {
   "cell_type": "markdown",
   "metadata": {},
   "source": [
    "### Option 1: detailed-balanced limit\n",
    "This solar cell solver calculates the saturation current J01 and J02 from detail balanced model (assuming 100% aborptivity). Sheet resistance is assigned by the user."
   ]
  },
  {
   "cell_type": "code",
   "execution_count": 33,
   "metadata": {},
   "outputs": [],
   "source": [
    "# the solar cell parameters\n",
    "\n",
    "gaas_cell = SQCell(middle_cell_eg, T, middle_cell_rad_eta)\n",
    "ingap_cell = SQCell(top_cell_eg, T, top_cell_rad_eta)\n",
    "ge_cell = SQCell(bottom_cell_eg, T, bottom_cell_rad_eta)\n",
    "\n",
    "\n",
    "# assign which solar cell to use. For example, to use top cell, set my_solar_cell like this:\n",
    "# my_solar_cell=SolarCell([ingap_cell],T=T)\n",
    "# For full 3J solar cell, the parameter is like this:\n",
    "# my_solar_cell=SolarCell([ingap_cell,gaas_cell,ge_cell],T=T)\n",
    "solar_cell_1 = MJCell([ingap_cell,gaas_cell,ge_cell])"
   ]
  },
  {
   "cell_type": "markdown",
   "metadata": {},
   "source": [
    "### Option 2: solar cell with known EQE"
   ]
  },
  {
   "cell_type": "code",
   "execution_count": 34,
   "metadata": {},
   "outputs": [],
   "source": [
    "all_EQE=np.loadtxt(QE_file,delimiter=',',skiprows=1)\n",
    "#eliminate the QE values <0\n",
    "for i in range(1,all_EQE.shape[1]):\n",
    "    c=np.nonzero(all_EQE[:,i]<0)\n",
    "    all_EQE[c,i]=0\n",
    "\n",
    "start_idx=0\n",
    "end_idx=all_EQE.shape[0]\n",
    "top_cell_eqe=Spectrum(x_data=all_EQE[start_idx:end_idx,0],y_data=all_EQE[start_idx:end_idx,1],x_unit='nm')\n",
    "mid_cell_eqe=Spectrum(x_data=all_EQE[start_idx:end_idx,0],y_data=all_EQE[start_idx:end_idx,2],x_unit='nm')\n",
    "bot_cell_eqe=Spectrum(x_data=all_EQE[start_idx:end_idx,0],y_data=all_EQE[start_idx:end_idx,3],x_unit='nm')\n"
   ]
  },
  {
   "cell_type": "code",
   "execution_count": 35,
   "metadata": {},
   "outputs": [],
   "source": [
    "gaas_db_cell=DBCell(mid_cell_eqe,rad_eta=middle_cell_rad_eta,T=T,eg=1.4)\n",
    "ingaas_db_cell=DBCell(bot_cell_eqe,rad_eta=bottom_cell_rad_eta,T=T,eg=0.93)\n",
    "ingap_db_cell=DBCell(top_cell_eqe,rad_eta=top_cell_rad_eta,T=T,eg=1.87)\n",
    "solar_cell_2=MJCell([ingap_db_cell,gaas_db_cell,ingaas_db_cell])"
   ]
  },
  {
   "cell_type": "code",
   "execution_count": 36,
   "metadata": {},
   "outputs": [
    {
     "data": {
      "text/plain": [
       "3.4025840639842505e-13"
      ]
     },
     "execution_count": 36,
     "metadata": {},
     "output_type": "execute_result"
    }
   ],
   "source": [
    "gaas_db_cell.j01_r"
   ]
  },
  {
   "cell_type": "code",
   "execution_count": 37,
   "metadata": {},
   "outputs": [],
   "source": [
    "if solar_cell_model==1:\n",
    "    my_solar_cell=solar_cell_1\n",
    "elif solar_cell_model==2:\n",
    "    my_solar_cell=solar_cell_2"
   ]
  },
  {
   "cell_type": "code",
   "execution_count": 38,
   "metadata": {},
   "outputs": [
    {
     "data": {
      "text/plain": [
       "(1000, 500)"
      ]
     },
     "execution_count": 38,
     "metadata": {},
     "output_type": "execute_result"
    }
   ],
   "source": [
    "illuminationMask.shape"
   ]
  },
  {
   "cell_type": "code",
   "execution_count": 39,
   "metadata": {},
   "outputs": [
    {
     "data": {
      "text/plain": [
       "(1000, 500)"
      ]
     },
     "execution_count": 39,
     "metadata": {},
     "output_type": "execute_result"
    }
   ],
   "source": [
    "contactsMask.shape"
   ]
  },
  {
   "cell_type": "markdown",
   "metadata": {},
   "source": [
    "Set the solar spectrum"
   ]
  },
  {
   "cell_type": "code",
   "execution_count": 40,
   "metadata": {},
   "outputs": [],
   "source": [
    "my_solar_cell.set_input_spectrum(load_astm(illumination_spectrum)) "
   ]
  },
  {
   "cell_type": "markdown",
   "metadata": {},
   "source": [
    "### Launch the solver"
   ]
  },
  {
   "cell_type": "code",
   "execution_count": 41,
   "metadata": {
    "scrolled": true
   },
   "outputs": [],
   "source": [
    "from pypvcircuit.parse_spice_input import NodeReducer\n",
    "from pypvcircuit.spice_solver import SPICESolver\n",
    "\n",
    "nd = NodeReducer()"
   ]
  },
  {
   "cell_type": "code",
   "execution_count": 42,
   "metadata": {},
   "outputs": [
    {
     "name": "stdout",
     "output_type": "stream",
     "text": [
      "CPU times: user 3 µs, sys: 0 ns, total: 3 µs\n",
      "Wall time: 7.15 µs\n",
      "number of data:351\n"
     ]
    }
   ],
   "source": [
    "%time\n",
    "sps = SPICESolver(solarcell=my_solar_cell, illumination=illuminationMask,\n",
    "                  metal_contact=contactsMask, rw=rw, cw=cw, v_start=vini, v_end=vfin,\n",
    "                  v_steps=step,l_r=l_r,l_c=l_c, h=h, spice_preprocessor=nd)"
   ]
  },
  {
   "cell_type": "markdown",
   "metadata": {},
   "source": [
    "### Voltage map"
   ]
  },
  {
   "cell_type": "code",
   "execution_count": 43,
   "metadata": {},
   "outputs": [
    {
     "data": {
      "text/plain": [
       "<matplotlib.colorbar.Colorbar at 0x1c1e4219b0>"
      ]
     },
     "execution_count": 43,
     "metadata": {},
     "output_type": "execute_result"
    },
    {
     "data": {
      "image/png": "[encoded data removed]",
      "text/plain": [
       "<Figure size 432x288 with 2 Axes>"
      ]
     },
     "metadata": {},
     "output_type": "display_data"
    }
   ],
   "source": [
    "plt.imshow(sps.get_end_voltage_map())\n",
    "plt.colorbar()"
   ]
  },
  {
   "cell_type": "markdown",
   "metadata": {},
   "source": [
    "### Downsampled image"
   ]
  },
  {
   "cell_type": "code",
   "execution_count": 44,
   "metadata": {},
   "outputs": [
    {
     "data": {
      "text/plain": [
       "<matplotlib.image.AxesImage at 0x1c1d289390>"
      ]
     },
     "execution_count": 44,
     "metadata": {},
     "output_type": "execute_result"
    },
    {
     "data": {
      "image/png": "[encoded data removed]",
      "text/plain": [
       "<Figure size 432x288 with 1 Axes>"
      ]
     },
     "metadata": {},
     "output_type": "display_data"
    }
   ],
   "source": [
    "r_image=get_merged_r_image(contactsMask,rw,cw)\n",
    "plt.imshow(r_image)"
   ]
  },
  {
   "cell_type": "code",
   "execution_count": 45,
   "metadata": {},
   "outputs": [
    {
     "data": {
      "image/png": "[encoded data removed]",
      "text/plain": [
       "<Figure size 432x288 with 1 Axes>"
      ]
     },
     "metadata": {},
     "output_type": "display_data"
    }
   ],
   "source": [
    "plt.semilogy(sps.V, abs(sps.I))\n",
    "plt.show()"
   ]
  },
  {
   "cell_type": "markdown",
   "metadata": {},
   "source": [
    "## Plot in linear scale"
   ]
  },
  {
   "cell_type": "code",
   "execution_count": 46,
   "metadata": {},
   "outputs": [
    {
     "data": {
      "text/plain": [
       "[<matplotlib.lines.Line2D at 0x1c1c62c6a0>]"
      ]
     },
     "execution_count": 46,
     "metadata": {},
     "output_type": "execute_result"
    },
    {
     "data": {
      "image/png": "[encoded data removed]",
      "text/plain": [
       "<Figure size 432x288 with 1 Axes>"
      ]
     },
     "metadata": {},
     "output_type": "display_data"
    }
   ],
   "source": [
    "plt.plot(sps.V, sps.I)"
   ]
  },
  {
   "cell_type": "markdown",
   "metadata": {},
   "source": [
    "Zoom in to negative current"
   ]
  },
  {
   "cell_type": "code",
   "execution_count": 47,
   "metadata": {},
   "outputs": [
    {
     "data": {
      "text/plain": [
       "(-5.1833992375e-05, 0)"
      ]
     },
     "execution_count": 47,
     "metadata": {},
     "output_type": "execute_result"
    },
    {
     "data": {
      "image/png": "[encoded data removed]",
      "text/plain": [
       "<Figure size 432x288 with 1 Axes>"
      ]
     },
     "metadata": {},
     "output_type": "display_data"
    }
   ],
   "source": [
    "plt.plot(sps.V, sps.I)\n",
    "plt.ylim([np.min(sps.I)*1.1,0])"
   ]
  },
  {
   "cell_type": "code",
   "execution_count": 48,
   "metadata": {},
   "outputs": [
    {
     "name": "stdout",
     "output_type": "stream",
     "text": [
      "Voc:2.628627244851937\n"
     ]
    }
   ],
   "source": [
    "voc_value=voc(sps.V,sps.I)\n",
    "print(\"Voc:{}\".format(voc_value))"
   ]
  },
  {
   "cell_type": "code",
   "execution_count": 49,
   "metadata": {},
   "outputs": [
    {
     "name": "stdout",
     "output_type": "stream",
     "text": [
      "FF:0.9190043619722046\n"
     ]
    }
   ],
   "source": [
    "ff_value=ff(sps.V,sps.I)\n",
    "print(\"FF:{}\".format(ff_value))"
   ]
  },
  {
   "cell_type": "markdown",
   "metadata": {},
   "source": [
    "## Export the I-V characteristics into a CSV file"
   ]
  },
  {
   "cell_type": "markdown",
   "metadata": {},
   "source": [
    "The result is written into the file ```iv_result.csv```"
   ]
  },
  {
   "cell_type": "code",
   "execution_count": 50,
   "metadata": {},
   "outputs": [],
   "source": [
    "output_iv=np.vstack([sps.V,sps.I]).T\n",
    "np.savetxt(to_data_path('iv_result.csv'),output_iv,delimiter=',')"
   ]
  },
  {
   "cell_type": "markdown",
   "metadata": {
    "collapsed": true
   },
   "source": [
    "## Compare simulation with different grid sizes"
   ]
  },
  {
   "cell_type": "code",
   "execution_count": 51,
   "metadata": {},
   "outputs": [],
   "source": [
    "test_pws=[50,30,25]\n",
    "file_prefix=\"3j_pana_\""
   ]
  },
  {
   "cell_type": "code",
   "execution_count": 52,
   "metadata": {},
   "outputs": [
    {
     "name": "stdout",
     "output_type": "stream",
     "text": [
      "CPU times: user 5 µs, sys: 1e+03 ns, total: 6 µs\n",
      "Wall time: 12.9 µs\n",
      "number of data:351\n",
      "number of data:351\n",
      "number of data:351\n"
     ]
    },
    {
     "data": {
      "image/png": "[encoded data removed]",
      "text/plain": [
       "<Figure size 432x288 with 1 Axes>"
      ]
     },
     "metadata": {},
     "output_type": "display_data"
    }
   ],
   "source": [
    "%time\n",
    "result_vi=None\n",
    "for pw in test_pws:\n",
    "    nd = NodeReducer()\n",
    "\n",
    "    sps = SPICESolver(solarcell=my_solar_cell, illumination=illuminationMask,\n",
    "                  metal_contact=contactsMask, rw=pw, cw=pw, v_start=vini, v_end=vfin,\n",
    "                  v_steps=step,l_r=l_r,l_c=l_c, h=h, spice_preprocessor=nd)\n",
    "\n",
    "    # Since we model 1/4 of the device, we multiply the current by 4\n",
    "    sps.I = sps.I * 2\n",
    "    np.save(to_data_path(\"{}_vmap_{}.npy\".format(file_prefix, pw)), sps.get_end_voltage_map())\n",
    "\n",
    "    if result_vi is None:\n",
    "        result_vi = np.stack((sps.V, sps.I))\n",
    "    else:\n",
    "        result_vi = np.vstack((result_vi, sps.V, sps.I))\n",
    "        plt.plot(sps.V, sps.I, label=\"pw: {}\".format(pw))"
   ]
  },
  {
   "cell_type": "code",
   "execution_count": 53,
   "metadata": {},
   "outputs": [
    {
     "data": {
      "text/plain": [
       "<Figure size 432x288 with 0 Axes>"
      ]
     },
     "metadata": {},
     "output_type": "display_data"
    }
   ],
   "source": [
    "np.savetxt(to_data_path(\"{}_3j_iv.csv\".format(file_prefix)), result_vi.T,\n",
    "                   delimiter=',')\n",
    "\n",
    "plt.savefig(to_data_path(\"{}_1jfig.png\".format(file_prefix)))"
   ]
  },
  {
   "cell_type": "code",
   "execution_count": 54,
   "metadata": {},
   "outputs": [
    {
     "name": "stdout",
     "output_type": "stream",
     "text": [
      "fill factor of pw 50: 0.9190\n",
      "fill factor of pw 30: 0.9190\n",
      "fill factor of pw 25: 0.9190\n"
     ]
    },
    {
     "data": {
      "image/png": "[encoded data removed]",
      "text/plain": [
       "<Figure size 432x288 with 1 Axes>"
      ]
     },
     "metadata": {},
     "output_type": "display_data"
    }
   ],
   "source": [
    "iv=np.loadtxt(to_data_path(\"{}_3j_iv.csv\").format(file_prefix),delimiter=',')\n",
    "for i in range(0,iv.shape[1],2):\n",
    "    plt.plot(iv[:,i],iv[:,i+1],label=\"{0}x{0} pixels per node\".format(test_pws[i//2]))\n",
    "    iv_ff=ff(iv[:,i],iv[:,i+1])\n",
    "    print(\"fill factor of pw {}: {:.4f}\".format(test_pws[i//2],iv_ff))\n",
    "plt.ylim((np.min(iv[:,1])*1.1,0.001))\n",
    "plt.xlabel(\"voltage (V)\")\n",
    "plt.ylabel(\"current (A)\")\n",
    "plt.legend()\n",
    "plt.savefig(to_data_path(\"iv_fig.png\"),dpi=300)"
   ]
  },
  {
   "cell_type": "code",
   "execution_count": 55,
   "metadata": {
    "scrolled": true
   },
   "outputs": [
    {
     "data": {
      "image/png": "[encoded data removed]",
      "text/plain": [
       "<Figure size 2400x1800 with 4 Axes>"
      ]
     },
     "metadata": {},
     "output_type": "display_data"
    }
   ],
   "source": [
    "fig,ax=plt.subplots(ncols=len(test_pws)+1,figsize=(8,6),dpi=300)\n",
    "for i, pw in enumerate(test_pws): \n",
    "    r_image=get_merged_r_image(contactsMask,pw,pw)\n",
    "    ax[i].imshow(r_image)\n",
    "    ax[i].set_title(\"{} pixels\".format(pw))\n",
    "r_image=get_merged_r_image(contactsMask,1,1)\n",
    "ax[-1].imshow(r_image)\n",
    "ax[-1].set_title(\"original\")\n",
    "fig.savefig(to_data_path(\"equiv_r_images.png\"))"
   ]
  },
  {
   "cell_type": "code",
   "execution_count": 56,
   "metadata": {},
   "outputs": [
    {
     "data": {
      "image/png": "[encoded data removed]",
      "text/plain": [
       "<Figure size 432x288 with 3 Axes>"
      ]
     },
     "metadata": {},
     "output_type": "display_data"
    }
   ],
   "source": [
    "fig,ax=plt.subplots(ncols=len(test_pws))\n",
    "for i, pw in enumerate(test_pws):\n",
    "    vmap=np.load(to_data_path('{}_vmap_{}.npy').format(file_prefix,pw))\n",
    "    ax[i].imshow(vmap)"
   ]
  }
 ],
 "metadata": {
  "kernelspec": {
   "display_name": "Python 3",
   "language": "python",
   "name": "python3"
  },
  "language_info": {
   "codemirror_mode": {
    "name": "ipython",
    "version": 3
   },
   "file_extension": ".py",
   "mimetype": "text/x-python",
   "name": "python",
   "nbconvert_exporter": "python",
   "pygments_lexer": "ipython3",
   "version": "3.7.1"
  }
 },
 "nbformat": 4,
 "nbformat_minor": 2
}
